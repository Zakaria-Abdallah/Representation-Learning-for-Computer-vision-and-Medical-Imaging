{
  "cells": [
    {
      "cell_type": "markdown",
      "source": [
        "# Lab: VAE - Image Reconstruction, Generation and Disentanglement in Pytorch\n",
        "\n",
        "For any remark or suggestion on this lab, please feel free to contact me at:\n",
        "\n",
        "- loic.lefolgoc@telecom-paris.fr\n",
        "\n",
        "### Objective:\n",
        "\n",
        "We are going to train a Variational Auto-Encoder (VAE), and compare different VAE models in terms of image generation, reconstruction and disentanglement. We will focus on the $\\beta$-VAE for this lab. We will work on a synthetic dataset: dSprites https://github.com/google-deepmind/dsprites-dataset.\n",
        "\n",
        "The lab will be implemented using the Pytorch environment : https://pytorch.org/.\n",
        "    \n",
        "### Your task:\n",
        "You need to add the missing parts in the code (generally marked by `...`) and answer several questions."
      ],
      "metadata": {
        "id": "V016SrEOmWqN"
      }
    },
    {
      "cell_type": "markdown",
      "source": [
        "# Load packages"
      ],
      "metadata": {
        "id": "svVJfXqgmdSM"
      }
    },
    {
      "cell_type": "code",
      "execution_count": 1,
      "metadata": {
        "id": "6amQFZQeB9pb"
      },
      "outputs": [],
      "source": [
        "%matplotlib inline\n",
        "import matplotlib.pyplot as plt\n",
        "import numpy as np\n",
        "\n",
        "import copy\n",
        "import os\n",
        "import subprocess\n",
        "\n",
        "import torch\n",
        "import torch.nn as nn\n",
        "import torch.nn.functional as F\n",
        "import torch.optim as optim\n",
        "import torchvision.transforms as transforms"
      ]
    },
    {
      "cell_type": "code",
      "execution_count": 2,
      "metadata": {
        "id": "kMoUQDn19rdV"
      },
      "outputs": [],
      "source": [
        "import sklearn.preprocessing, sklearn.metrics"
      ]
    },
    {
      "cell_type": "code",
      "execution_count": 3,
      "metadata": {
        "id": "kl_yFhz0COlD"
      },
      "outputs": [],
      "source": [
        "from tqdm import tqdm"
      ]
    },
    {
      "cell_type": "markdown",
      "source": [
        "# Load the dataset: dSprites\n",
        "\n",
        "We are going to train a VAE on a synthetic image dataset : dSprites. To quote the dataset description: dSprites is a dataset of 2D shapes procedurally generated from 6 ground truth independent latent factors. These factors are color, shape, scale, rotation, x and y positions of a sprite.\n",
        "\n",
        "All possible combinations of these latents are present exactly once, generating N = 737280 total images.\n",
        "\n",
        "Latent factor values:\n",
        "*   Color: white\n",
        "*   Shape: square, ellipse, heart\n",
        "*   Scale: 6 values linearly spaced in [0.5, 1]\n",
        "*   Orientation: 40 values in [0, 2 pi]\n",
        "*   Position X: 32 values in [0, 1]\n",
        "*   Position Y: 32 values in [0, 1]\n",
        "\n",
        "The shapes are represented as 64x64 binary images."
      ],
      "metadata": {
        "id": "BRMnJ1SUofr-"
      }
    },
    {
      "cell_type": "code",
      "execution_count": 4,
      "metadata": {
        "id": "Wtl7SjgoCSsI"
      },
      "outputs": [],
      "source": [
        "class DSprites(torch.utils.data.Dataset):\n",
        "    \"\"\"DSprites Dataset from [1].\n",
        "\n",
        "    Disentanglement test Sprites dataset.Procedurally generated 2D shapes, from 6\n",
        "    disentangled latent factors. This dataset uses 6 latents, controlling the color,\n",
        "    shape, scale, rotation and position of a sprite. All possible variations of\n",
        "    the latents are present. Ordering along dimension 1 is fixed and can be mapped\n",
        "    back to the exact latent values that generated that image.\n",
        "\n",
        "    Notes\n",
        "    -----\n",
        "    - Link : https://github.com/deepmind/dsprites-dataset/\n",
        "    - hard coded metadata because issue with python 3 loading of python 2\n",
        "\n",
        "    Parameters\n",
        "    ----------\n",
        "    root : string\n",
        "        Root directory of dataset.\n",
        "\n",
        "    References\n",
        "    ----------\n",
        "    [1] Higgins, I., Matthey, L., Pal, A., Burgess, C., Glorot, X., Botvinick,\n",
        "        M., ... & Lerchner, A. (2017). beta-vae: Learning basic visual concepts\n",
        "        with a constrained variational framework. In International Conference\n",
        "        on Learning Representations.\n",
        "\n",
        "    \"\"\"\n",
        "    urls = {\n",
        "        \"train\":\n",
        "        \"https://github.com/deepmind/dsprites-dataset/blob/master/dsprites_ndarray_co1sh3sc6or40x32y32_64x64.npz?raw=true\"\n",
        "    }\n",
        "    files = {\"train\": \"dsprite_train.npz\"}\n",
        "    lat_names = ('color', 'shape', 'scale', 'orientation', 'posX', 'posY')\n",
        "    lat_sizes = np.array([1, 3, 6, 40, 32, 32])\n",
        "    img_size = (1, 64, 64)\n",
        "    background_color = 0\n",
        "    lat_values = {\n",
        "        'posX':\n",
        "        np.array([\n",
        "            0., 0.03225806, 0.06451613, 0.09677419, 0.12903226, 0.16129032,\n",
        "            0.19354839, 0.22580645, 0.25806452, 0.29032258, 0.32258065,\n",
        "            0.35483871, 0.38709677, 0.41935484, 0.4516129, 0.48387097,\n",
        "            0.51612903, 0.5483871, 0.58064516, 0.61290323, 0.64516129,\n",
        "            0.67741935, 0.70967742, 0.74193548, 0.77419355, 0.80645161,\n",
        "            0.83870968, 0.87096774, 0.90322581, 0.93548387, 0.96774194, 1.\n",
        "        ]),\n",
        "        'posY':\n",
        "        np.array([\n",
        "            0., 0.03225806, 0.06451613, 0.09677419, 0.12903226, 0.16129032,\n",
        "            0.19354839, 0.22580645, 0.25806452, 0.29032258, 0.32258065,\n",
        "            0.35483871, 0.38709677, 0.41935484, 0.4516129, 0.48387097,\n",
        "            0.51612903, 0.5483871, 0.58064516, 0.61290323, 0.64516129,\n",
        "            0.67741935, 0.70967742, 0.74193548, 0.77419355, 0.80645161,\n",
        "            0.83870968, 0.87096774, 0.90322581, 0.93548387, 0.96774194, 1.\n",
        "        ]),\n",
        "        'scale':\n",
        "        np.array([0.5, 0.6, 0.7, 0.8, 0.9, 1.]),\n",
        "        'orientation':\n",
        "        np.array([\n",
        "            0., 0.16110732, 0.32221463, 0.48332195, 0.64442926, 0.80553658,\n",
        "            0.96664389, 1.12775121, 1.28885852, 1.44996584, 1.61107316,\n",
        "            1.77218047, 1.93328779, 2.0943951, 2.25550242, 2.41660973,\n",
        "            2.57771705, 2.73882436, 2.89993168, 3.061039, 3.22214631,\n",
        "            3.38325363, 3.54436094, 3.70546826, 3.86657557, 4.02768289,\n",
        "            4.1887902, 4.34989752, 4.51100484, 4.67211215, 4.83321947,\n",
        "            4.99432678, 5.1554341, 5.31654141, 5.47764873, 5.63875604,\n",
        "            5.79986336, 5.96097068, 6.12207799, 6.28318531\n",
        "        ]),\n",
        "        'shape':\n",
        "        np.array([1., 2., 3.]),\n",
        "        'color':\n",
        "        np.array([1.])\n",
        "    }\n",
        "\n",
        "    def __init__(self, root='data/dsprites/', factors_to_use=['shape', 'scale', 'orientation', 'posX', 'posY'], subset=1, **kwargs):\n",
        "        super().__init__()\n",
        "\n",
        "        self.root = root\n",
        "        self.train_data = os.path.join(root, type(self).files[\"train\"])\n",
        "        self.transforms = transforms.ToTensor()\n",
        "        self.subset = subset\n",
        "\n",
        "        if not os.path.isdir(root):\n",
        "          self.download()\n",
        "\n",
        "        dataset_zip = np.load(self.train_data)\n",
        "        self.imgs = dataset_zip['imgs']\n",
        "        self.lat_values = dataset_zip['latents_values']\n",
        "        self.lat_values = sklearn.preprocessing.minmax_scale(self.lat_values)\n",
        "        self.factors_to_use = factors_to_use\n",
        "        indices = []\n",
        "        for x in self.factors_to_use:\n",
        "            indices.append(np.where(np.array(self.lat_names)==x)[0][0])\n",
        "        self.lat_values = self.lat_values[:, indices]\n",
        "        self.lat_sizes = self.lat_sizes[indices]\n",
        "        self.lat_names = factors_to_use\n",
        "\n",
        "        if self.subset < 1:\n",
        "            n_samples = int(len(self.imgs) * self.subset)\n",
        "            subset = np.random.choice(len(self.imgs), n_samples, replace=False)\n",
        "            self.imgs = self.imgs[subset]\n",
        "            self.lat_values = self.lat_values[subset]\n",
        "\n",
        "    def download(self):\n",
        "        \"\"\"Download the dataset.\"\"\"\n",
        "        os.makedirs(self.root)\n",
        "        subprocess.check_call([\n",
        "            \"curl\", \"-L\",\n",
        "            type(self).urls[\"train\"], \"--output\", self.train_data\n",
        "        ])\n",
        "\n",
        "    def __len__(self):\n",
        "        return len(self.imgs)\n",
        "\n",
        "    def __getitem__(self, idx):\n",
        "        \"\"\"Get the image of `idx`\n",
        "        Return\n",
        "        ------\n",
        "        sample : torch.Tensor\n",
        "            Tensor in [0.,1.] of shape `img_size`.\n",
        "\n",
        "        lat_value : np.array\n",
        "            Array of length len(self.factors_to_use), that gives the value of each factor of variation that is included in self.factors_to_use.\n",
        "        \"\"\"\n",
        "        # stored image have binary and shape (H x W) so multiply by 255 to get pixel\n",
        "        # values + add dimension\n",
        "        sample = np.expand_dims(self.imgs[idx] * 255, axis=-1)\n",
        "\n",
        "        # ToTensor transforms numpy.ndarray (H x W x C) in the range\n",
        "        # [0, 255] to a torch.FloatTensor of shape (C x H x W) in the range [0.0, 1.0]\n",
        "        return self.transforms(sample), self.lat_values[idx]"
      ]
    },
    {
      "cell_type": "markdown",
      "source": [
        "We are going to use a fraction of the total dataset (by default, 75%) as the training dataset. If you are running this notebook on colab with CPU only, you may want to lower the fraction (you can set it as low as 0.01). The results for your trained VAE will be of lower quality, but the training will be done faster.\n",
        "<br>Moreover, it will not really matter as we will provide/load models already trained for the second part of the lab."
      ],
      "metadata": {
        "id": "DI28k4efpq55"
      }
    },
    {
      "cell_type": "code",
      "execution_count": 5,
      "metadata": {
        "id": "MKvhJQ7THoFj"
      },
      "outputs": [],
      "source": [
        "train_dataset = DSprites(subset=0.75)"
      ]
    },
    {
      "cell_type": "markdown",
      "source": [
        "We are going to use another fraction of the total dataset as test data. For correctness, the test data points should be guaranteed not to belong to the training set, but it is not necessarily the case with the line of code below. It is done for simplicity and has no impact on the results."
      ],
      "metadata": {
        "id": "_FN2KY52rsQm"
      }
    },
    {
      "cell_type": "code",
      "execution_count": 6,
      "metadata": {
        "id": "acnbcEesTNN_"
      },
      "outputs": [],
      "source": [
        "test_dataset = DSprites(subset=0.015)"
      ]
    },
    {
      "cell_type": "markdown",
      "source": [
        "Let's visualize a few of the training images. There are three possible shapes (oval, heart, square), coming in a variety of sizes, positions and orientations:"
      ],
      "metadata": {
        "id": "z7LQLdejsOd1"
      }
    },
    {
      "cell_type": "code",
      "execution_count": 7,
      "metadata": {
        "colab": {
          "base_uri": "https://localhost:8080/",
          "height": 527
        },
        "id": "2i5XpMyPIYNh",
        "outputId": "77932ad2-b5c1-41ae-c562-f173d32121df"
      },
      "outputs": [
        {
          "output_type": "display_data",
          "data": {
            "text/plain": [
              "<Figure size 1200x600 with 15 Axes>"
            ],
            "image/png": "[encoded data removed]"
          },
          "metadata": {}
        }
      ],
      "source": [
        "plt.figure(figsize=(12, 6))\n",
        "for idx in range(0,15):\n",
        "    plt.subplot(3, 5, idx+1)\n",
        "    rand_ind = np.random.randint(0,train_dataset.imgs.shape[0])\n",
        "    plt.imshow(train_dataset.imgs[rand_ind,:,:], cmap='gray')"
      ]
    },
    {
      "cell_type": "markdown",
      "source": [
        "# Building the VAE backbone\n",
        "\n",
        "VAEs are probabilistic models, whose expressivity depends on a choice of backbone. Here we opt for a simple CNN that we are going to build step-by-step. First the encoder (inference network), then the decoder (the generative model), then the complete variational auto-encoder."
      ],
      "metadata": {
        "id": "2qZQrWG5slsk"
      }
    },
    {
      "cell_type": "markdown",
      "source": [
        "Let's start with the `Encoder`, which maps a 64x64 image $x_n$ to a Gaussian distribution $q(z|x_n)\\triangleq \\mathcal{N}(z| \\mu_n, \\Sigma_n)$ parametrized by a mean $\\mu_n\\in \\mathbb{R}^D$ and a diagonal covariance $\\Sigma_n\\triangleq \\text{diag}(\\sigma_n^{(1)2},\\dots, \\sigma_n^{(D)2})$. The encoder predicts the $\\mu_n^{(j)}$ and $\\log{\\sigma_n^{(j)2}}$ *i.e.*, $D\\times 2$ values.\n",
        "\n"
      ],
      "metadata": {
        "id": "oQx-A4TztspE"
      }
    },
    {
      "cell_type": "markdown",
      "source": [
        "The `Encoder` consists of 4 `nn.Conv2d` layers with 32 output feature maps, 4x4 kernels, stride 2 and padding 1. This is followed by two linear layers. The first layer outputs 256 neurons. The second layer outputs Dx2 values.\n",
        "\n",
        "*Hint for coding the first linear layer: The feature maps output by the last convolutional layer have spatial dimension 4x4.*\n",
        "\n",
        "Between each layer (convolutional or linear), ReLu non-linearities are used. No non-linearity is used after the last linear layer as mean values and log-variances can be positive or negative."
      ],
      "metadata": {
        "id": "nDg0xq21wOuZ"
      }
    },
    {
      "cell_type": "code",
      "execution_count": 8,
      "metadata": {
        "id": "0e7-Y4aFuT9q"
      },
      "outputs": [],
      "source": [
        "class Encoder(nn.Module):\n",
        "\n",
        "    def __init__(self, latent_dim=10):\n",
        "        r\"\"\"\n",
        "        Encoder of the model proposed in [1].\n",
        "        Expects images of size (1, 64, 64) as input\n",
        "\n",
        "        Parameters\n",
        "        ----------\n",
        "        latent_dim : int\n",
        "            Dimensionality of latent output.\n",
        "\n",
        "        References:\n",
        "            [1] Burgess, Christopher P., et al. \"Understanding disentangling in\n",
        "            $\\beta$-VAE.\" arXiv preprint arXiv:1804.03599 (2018).\n",
        "        \"\"\"\n",
        "        super(Encoder, self).__init__()\n",
        "\n",
        "        # Layer parameters\n",
        "        self.latent_dim = latent_dim\n",
        "\n",
        "        # Shape required to start transpose convs\n",
        "        self.reshape = (32, 4, 4)\n",
        "\n",
        "        # Convolutional layers\n",
        "        kernel_size = 4\n",
        "        stride = 2\n",
        "        padding = 1\n",
        "\n",
        "        self.conv1 = nn.Conv2d(in_channels=1, out_channels=32, kernel_size=kernel_size, stride=stride, padding=padding)\n",
        "        self.conv2 = nn.Conv2d(in_channels=32, out_channels=32, kernel_size=kernel_size, stride=stride, padding=padding)\n",
        "        self.conv3 = nn.Conv2d(in_channels=32, out_channels=32, kernel_size=kernel_size, stride=stride, padding=padding)\n",
        "        self.conv4 = nn.Conv2d(in_channels=32, out_channels=32, kernel_size=kernel_size, stride=stride, padding=padding)\n",
        "\n",
        "        # Fully connected layers\n",
        "        self.lin1 = nn.Linear(in_features=32 * 4 * 4, out_features=256)\n",
        "        self.lin2 = nn.Linear(in_features=256, out_features=latent_dim * 2)\n",
        "\n",
        "    def forward(self, x):\n",
        "        '''\n",
        "        Pass the input image mini-batch through conv, linear layers and\n",
        "        non-linearities to output a (B,D,2) tensor where B is the mini-batch\n",
        "        size and D the latent dimension.\n",
        "        '''\n",
        "        batch_size = x.size(0)\n",
        "\n",
        "        # Convolutional layers with ReLu activations\n",
        "        x = F.relu(self.conv1(x))\n",
        "        x = F.relu(self.conv2(x))\n",
        "        x = F.relu(self.conv3(x))\n",
        "        x = F.relu(self.conv4(x))\n",
        "\n",
        "        # Flatten before fully connected layers\n",
        "        x = x.view(batch_size, -1)\n",
        "\n",
        "        # Fully connected layer with ReLu activation\n",
        "        x = F.relu(self.lin1(x))\n",
        "\n",
        "        # Fully connected layer for log variance and mean\n",
        "        x = self.lin2(x)\n",
        "\n",
        "        # The shape of the output tensor should be BxDx2, where B is the batch\n",
        "        # size, and D the latent dimension.\n",
        "        return x.view(batch_size, self.latent_dim, 2)"
      ]
    },
    {
      "cell_type": "markdown",
      "source": [
        "Next, we turn to the `Decoder`. The `Decoder` is roughly the symmetric of the `Encoder`. It takes a latent code $z\\in \\mathbb{R}^D$ as input and outputs a 64x64 image that tells us, for each pixel, the probability that this pixel takes value 1 (rather than 0)."
      ],
      "metadata": {
        "id": "8g8yetAyzEGK"
      }
    },
    {
      "cell_type": "markdown",
      "source": [
        "The `Decoder` consists of 2 linear layers, followed by 4 transposed convolution (`nn.ConvTranspose2d`) layers, with ReLu non-linearities in between each layer (linear or conv-transpose). The last conv-transpose layer is followed by a sigmoid non-linearity, as it must predict probabilities.\n",
        "\n",
        "The first linear layer outputs 256 neurons.\n",
        "\n",
        "The input feature maps for the first conv-transpose layer have shape 32x4x4.\n",
        "\n",
        "The conv-transpose layers use 4x4 kernels, stride 2, padding 1, and output 32 feature maps, except the last one, which outputs a single probability map."
      ],
      "metadata": {
        "id": "4VjjOs8u0BY1"
      }
    },
    {
      "cell_type": "code",
      "execution_count": 9,
      "metadata": {
        "id": "Nw1I0fnouF6e"
      },
      "outputs": [],
      "source": [
        "class Decoder(nn.Module):\n",
        "\n",
        "    def __init__(self, latent_dim=10):\n",
        "        r\"\"\"\n",
        "        Decoder of the model proposed in [1].\n",
        "        Provides images of size (1, 64, 64) as output.\n",
        "\n",
        "\n",
        "        Parameters\n",
        "        ----------\n",
        "        latent_dim : int\n",
        "            Dimensionality of latent output.\n",
        "\n",
        "        Model Architecture (transposed for decoder)\n",
        "        ------------\n",
        "        - 4 convolutional layers (each with 32 channels), (4 x 4 kernel), (stride of 2)\n",
        "        - 1 fully connected layer (256 units)\n",
        "        - Latent distribution:\n",
        "            - 1 fully connected layer of 20 units (log variance and mean for 10 Gaussians)\n",
        "\n",
        "        References:\n",
        "            [1] Burgess, Christopher P., et al. \"Understanding disentangling in\n",
        "            $\\beta$-VAE.\" arXiv preprint arXiv:1804.03599 (2018).\n",
        "        \"\"\"\n",
        "        super(Decoder, self).__init__()\n",
        "\n",
        "        # Shape required to start transpose convs\n",
        "        self.reshape = (32, 4, 4)\n",
        "\n",
        "        # Fully connected layers\n",
        "        self.lin1 = nn.Linear(in_features=latent_dim, out_features=256)\n",
        "        self.lin2 = nn.Linear(in_features=256, out_features=32 * 4 * 4)\n",
        "\n",
        "        # Convolutional layers\n",
        "        kernel_size = 4\n",
        "        stride = 2\n",
        "        padding = 1\n",
        "\n",
        "        self.convT1 = nn.ConvTranspose2d(in_channels=32, out_channels=32, kernel_size=kernel_size, stride=stride, padding=padding)\n",
        "        self.convT2 = nn.ConvTranspose2d(in_channels=32, out_channels=32, kernel_size=kernel_size, stride=stride, padding=padding)\n",
        "        self.convT3 = nn.ConvTranspose2d(in_channels=32, out_channels=32, kernel_size=kernel_size, stride=stride, padding=padding)\n",
        "        self.convT4 = nn.ConvTranspose2d(in_channels=32, out_channels=1, kernel_size=kernel_size, stride=stride, padding=padding)\n",
        "\n",
        "    def forward(self, z):\n",
        "        batch_size = z.size(0)\n",
        "\n",
        "        # Fully connected layers with ReLu activations\n",
        "        x = F.relu(self.lin1(z))\n",
        "        x = F.relu(self.lin2(x))\n",
        "        # Reshape\n",
        "        x = x.view(batch_size, *self.reshape)\n",
        "\n",
        "        # Convolutional layers with ReLu activations\n",
        "        x = F.relu(self.convT1(x))\n",
        "        x = F.relu(self.convT2(x))\n",
        "        x = F.relu(self.convT3(x))\n",
        "        # Final conv layer with sigmoid activation\n",
        "        x = torch.sigmoid(self.convT4(x))\n",
        "\n",
        "        return x"
      ]
    },
    {
      "cell_type": "markdown",
      "source": [
        "The last building block is the `VAEModel`, which is a wrapper for the encoder-decoder architecture.\n",
        "\n",
        "The `forward` takes images `x` as input and performs image reconstruction (auto-encoding). To do so, it maps the images to a distribution in latent space (encoding), samples latent codes according to these distributions (reparametrization trick), then decodes the samples back to image space (decoding/reconstruction). It outputs a dictionary, with keys `stats_qzx` (the mean/log-var values in latent space), `samples_qzx` (the samples $z_n\\sim q(z|x_n)$), and `reconstructions` (probability maps).\n",
        "\n",
        "Other routines are implemented. `sample_pz` and `generate_samples` are used for image generation. `sample_pz` samples latent codes from the prior $\\mathcal{N}(0,I_D)$ and `generate_samples` decodes such samples."
      ],
      "metadata": {
        "id": "xz2LzN-d1_81"
      }
    },
    {
      "cell_type": "code",
      "execution_count": 10,
      "metadata": {
        "id": "aXJDtmOVKvbB"
      },
      "outputs": [],
      "source": [
        "class VAEModel(nn.Module):\n",
        "    def __init__(self, latent_dim):\n",
        "        \"\"\"\n",
        "        Class which defines model and forward pass.\n",
        "\n",
        "        Parameters\n",
        "        ----------\n",
        "        latent_dim : int\n",
        "            Dimensionality of latent code.\n",
        "        \"\"\"\n",
        "        super(VAEModel, self).__init__()\n",
        "\n",
        "        self.latent_dim = latent_dim\n",
        "        self.encoder = Encoder(latent_dim)\n",
        "        self.decoder = Decoder(latent_dim)\n",
        "\n",
        "    def reparameterize(self, mean, logvar, mode='sample'):\n",
        "        \"\"\"\n",
        "        Samples from a normal distribution using the reparameterization trick.\n",
        "\n",
        "        Parameters\n",
        "        ----------\n",
        "        mean : torch.Tensor\n",
        "            Mean of the normal distribution. Shape (batch_size, latent_dim)\n",
        "\n",
        "        logvar : torch.Tensor\n",
        "            Diagonal log variance of the normal distribution. Shape (batch_size,\n",
        "            latent_dim)\n",
        "\n",
        "        mode : 'sample' or 'mean'\n",
        "            Returns either a sample from qzx or the mean of qzx. The former is\n",
        "            useful at training time. The latter is useful at inference time as\n",
        "            the mean is usually used for reconstruction, rather than a sample.\n",
        "        \"\"\"\n",
        "        if mode=='sample':\n",
        "            # Implements the reparametrization trick (slide 43):\n",
        "            std = torch.exp(0.5 * logvar)\n",
        "            eps = torch.randn_like(std)\n",
        "            return mean + eps * std\n",
        "        elif mode=='mean':\n",
        "            return mean\n",
        "        else:\n",
        "            return ValueError(\"Unknown mode: {mode}\".format(mode))\n",
        "\n",
        "    def forward(self, x, mode='sample'):\n",
        "        \"\"\"\n",
        "        Forward pass of model, used for training or reconstruction.\n",
        "\n",
        "        Parameters\n",
        "        ----------\n",
        "        x : torch.Tensor\n",
        "            Batch of data. Shape (batch_size, n_chan, height, width)\n",
        "\n",
        "        mode : 'sample' or 'mean'\n",
        "            Reconstructs from either a sample from qzx or the mean of qzx\n",
        "        \"\"\"\n",
        "\n",
        "        # stats_qzx is the output of the encoder\n",
        "        stats_qzx = self.encoder(x)\n",
        "\n",
        "        # Use the reparametrization trick to sample from q(z|x)\n",
        "        samples_qzx = self.reparameterize(*stats_qzx.unbind(-1), mode=mode)\n",
        "\n",
        "        # Decode the samples to image space\n",
        "        reconstructions = self.decoder(samples_qzx)\n",
        "\n",
        "        # Return everything:\n",
        "        return {\n",
        "            'reconstructions': reconstructions,\n",
        "            'stats_qzx': stats_qzx,\n",
        "            'samples_qzx': samples_qzx}\n",
        "\n",
        "    def sample_qzx(self, x):\n",
        "        \"\"\"\n",
        "        Returns a sample z from the latent distribution q(z|x).\n",
        "\n",
        "        Parameters\n",
        "        ----------\n",
        "        x : torch.Tensor\n",
        "            Batch of data. Shape (batch_size, n_chan, height, width)\n",
        "        \"\"\"\n",
        "        stats_qzx = self.encoder(x)\n",
        "        samples_qzx = self.reparameterize(*stats_qzx.unbind(-1))\n",
        "        return samples_qzx\n",
        "\n",
        "    def sample_pz(self, N):\n",
        "        samples_pz = torch.randn(N, self.latent_dim, device=self.encoder.conv1.weight.device)\n",
        "        return samples_pz\n",
        "\n",
        "    def generate_samples(self, samples_pz=None, N=None):\n",
        "        if samples_pz is None:\n",
        "            if N is None:\n",
        "                return ValueError(\"samples_pz and N cannot be set to None at the same time. Specify one of the two.\")\n",
        "\n",
        "            # If samples z are not provided, we sample N samples from the prior\n",
        "            # p(z)=N(0,Id), using sample_pz\n",
        "            samples_pz = self.sample_pz(N)\n",
        "\n",
        "        # Decode the z's to obtain samples in image space (here, probability\n",
        "        # maps which can later be sampled from or thresholded)\n",
        "        generations = self.decoder(samples_pz)\n",
        "        return {'generations': generations}"
      ]
    },
    {
      "cell_type": "markdown",
      "source": [
        "#Loss functions for the VAE\n",
        "\n",
        "The VAE relies on two losses: a reconstruction loss `reconstruction_loss` and a regularization term `kl_normal_loss` (KL divergence, here between $q(z|x_n)$ and $\\mathcal{N}(0,1)$). Together they give the formula on slide 45."
      ],
      "metadata": {
        "id": "KzxjU1JB7sgt"
      }
    },
    {
      "cell_type": "markdown",
      "source": [
        "The reconstruction loss translates a pixel-wise Bernoulli probabilistic model into a loss (`F.binary_cross_entropy`). It takes input images `data` and reconstructed probability maps `reconstructions` and computes the binary cross-entropy, from the two images."
      ],
      "metadata": {
        "id": "KIMjDF6M8_8R"
      }
    },
    {
      "cell_type": "code",
      "execution_count": 11,
      "metadata": {
        "id": "NEIg5eEW505M"
      },
      "outputs": [],
      "source": [
        "def reconstruction_loss(data, reconstructions):\n",
        "    \"\"\"\n",
        "    Calculates the per image reconstruction loss for a batch of data. I.e. negative\n",
        "    log likelihood.\n",
        "\n",
        "    Parameters\n",
        "    ----------\n",
        "    data : torch.Tensor\n",
        "        Input data (e.g. batch of images). Shape : (batch_size, 1,\n",
        "        height, width).\n",
        "\n",
        "    reconstructions : torch.Tensor\n",
        "        Reconstructed data. Shape : (batch_size, 1, height, width).\n",
        "\n",
        "    Returns\n",
        "    -------\n",
        "    loss : torch.Tensor\n",
        "        Cross entropy (i.e. averaged over images in the batch but summed over\n",
        "        pixel and channel)\n",
        "    \"\"\"\n",
        "    batch_size, n_chan, height, width = reconstructions.size()\n",
        "\n",
        "    # The pixel-wise loss is the binary cross-entropy, computed from\n",
        "    # reconstructions and data. It is summed over pixels and averaged across\n",
        "    # samples in the batch.\n",
        "    loss = F.binary_cross_entropy(reconstructions, data, reduction='sum') / batch_size\n",
        "\n",
        "    return loss"
      ]
    },
    {
      "cell_type": "markdown",
      "source": [
        "The KL divergence term is computed as per the regularization term in slide 45 i.e., for each data sample in the mini-batch:\n",
        "$$\\frac{1}{2}\\sum_{j=1}^D (\\mu_j^2 + \\sigma_j^2 - 1 - \\log{\\sigma_j^2})$$"
      ],
      "metadata": {
        "id": "MUsrzszm-Hnf"
      }
    },
    {
      "cell_type": "code",
      "execution_count": 12,
      "metadata": {
        "id": "-pc40PPM7adL"
      },
      "outputs": [],
      "source": [
        "def kl_normal_loss(mean, logvar, batch_mean=True, component_sum=True):\n",
        "    \"\"\"\n",
        "    Calculates the KL divergence between a normal distribution\n",
        "    with diagonal covariance and a unit normal distribution.\n",
        "\n",
        "    Parameters\n",
        "    ----------\n",
        "    mean : torch.Tensor\n",
        "        Mean of the normal distribution. Shape (batch_size, latent_dim) where\n",
        "        D is dimension of distribution.\n",
        "\n",
        "    logvar : torch.Tensor\n",
        "        Diagonal log variance of the normal distribution. Shape (batch_size,\n",
        "        latent_dim)\n",
        "\n",
        "    batch_mean: boolean\n",
        "        If false, returns a separate value for each data point, if true takes\n",
        "        the mean over data points\n",
        "\n",
        "    component_sum: boolean\n",
        "        If false, returns a separate value for each latent dimension, if true\n",
        "        takes the sum over latent dimensions\n",
        "    \"\"\"\n",
        "    # kl for each latent dimension and each q(z|x_n) for n in the batch i.e.,\n",
        "    # the summand of the above equation for each data sample\n",
        "    # Tensor of size (B, D) where B is the batch size and D the latent dim.\n",
        "    latent_kl = 0.5 * (mean.pow(2) + logvar.exp() - 1 - logvar)\n",
        "\n",
        "    if batch_mean:\n",
        "        latent_kl = latent_kl.mean(dim=0)\n",
        "\n",
        "    if component_sum:\n",
        "        latent_kl = latent_kl.sum(dim=-1)\n",
        "\n",
        "    return latent_kl"
      ]
    },
    {
      "cell_type": "markdown",
      "source": [
        "The `BetaVAELoss` puts it all together as per slide 55."
      ],
      "metadata": {
        "id": "WhJbXJ0y_8OI"
      }
    },
    {
      "cell_type": "code",
      "execution_count": 13,
      "metadata": {
        "id": "x_hr2EwiCRSv"
      },
      "outputs": [],
      "source": [
        "class BetaVAELoss(object):\n",
        "    \"\"\"\n",
        "    Compute the Beta-VAE loss as in [1]\n",
        "\n",
        "    Parameters\n",
        "    ----------\n",
        "    beta: (scalar) the weight assigned to the regularization term\n",
        "\n",
        "    References\n",
        "    ----------\n",
        "        [1] Burgess, Christopher P., et al. \"Understanding disentangling in\n",
        "        $\\beta$-VAE.\" arXiv preprint arXiv:1804.03599 (2018).\n",
        "    \"\"\"\n",
        "\n",
        "    def __init__(self, beta):\n",
        "        self.beta = beta\n",
        "\n",
        "    def __call__(self, data, reconstructions, stats_qzx):\n",
        "        stats_qzx = stats_qzx.unbind(-1)\n",
        "\n",
        "        # Reconstruction loss\n",
        "        rec_loss = reconstruction_loss(data, reconstructions)\n",
        "\n",
        "        # KL loss\n",
        "        kl_loss = kl_normal_loss(*stats_qzx)\n",
        "\n",
        "        # Total loss of beta-VAE\n",
        "        loss = rec_loss + self.beta * kl_loss\n",
        "\n",
        "        return loss"
      ]
    },
    {
      "cell_type": "markdown",
      "source": [
        "#Training the VAE model\n",
        "\n",
        "Everything is in place to train our VAE model on the dSprites training data. We use a latent space of dimension 10. We use the `BetaVAELoss`.\n",
        "\n",
        "You can train on CPU or GPU. The code makes sure that the model and data are automatically ported on GPU if it is available, otherwise the CPU will be used. Training on CPU is roughly 10-20x slower here."
      ],
      "metadata": {
        "id": "Egfz04srAbDh"
      }
    },
    {
      "cell_type": "code",
      "execution_count": 14,
      "metadata": {
        "id": "bOdRTeDAMJCO"
      },
      "outputs": [],
      "source": [
        "D = 10\n",
        "\n",
        "learning_rate = 1e-3\n",
        "batch_size = 64\n",
        "\n",
        "n_epoch = 10"
      ]
    },
    {
      "cell_type": "code",
      "source": [
        "device = torch.device(\"cuda:0\" if torch.cuda.is_available() else \"cpu\")\n",
        "print(device)"
      ],
      "metadata": {
        "id": "xGN3jpxqOOwg",
        "colab": {
          "base_uri": "https://localhost:8080/"
        },
        "outputId": "7e7bb2ae-859e-486c-ea4d-7d36cb7faa27"
      },
      "execution_count": 15,
      "outputs": [
        {
          "output_type": "stream",
          "name": "stdout",
          "text": [
            "cuda:0\n"
          ]
        }
      ]
    },
    {
      "cell_type": "markdown",
      "source": [
        "Instantiate a VAE model (with random weights) and latent dimension `D`:"
      ],
      "metadata": {
        "id": "LIwqEY-1BDBC"
      }
    },
    {
      "cell_type": "code",
      "execution_count": 16,
      "metadata": {
        "id": "D5XnxIE1L1bI"
      },
      "outputs": [],
      "source": [
        "model = VAEModel(latent_dim=D)"
      ]
    },
    {
      "cell_type": "code",
      "source": [
        "model = model.to(device)"
      ],
      "metadata": {
        "id": "deNFacaAOgBq"
      },
      "execution_count": 17,
      "outputs": []
    },
    {
      "cell_type": "markdown",
      "source": [
        "We instantiate a data loader to use the training data, with mini-batch size given by `batch_size`."
      ],
      "metadata": {
        "id": "y6b-HQynBZdd"
      }
    },
    {
      "cell_type": "code",
      "execution_count": 18,
      "metadata": {
        "id": "JERndNm5PV1X"
      },
      "outputs": [],
      "source": [
        "train_loader = torch.utils.data.DataLoader(train_dataset, batch_size=batch_size, shuffle=True)"
      ]
    },
    {
      "cell_type": "markdown",
      "source": [
        "Instantiate a `BetaVAELoss` object with value `beta=1.`:"
      ],
      "metadata": {
        "id": "JU5QR5mNBrAG"
      }
    },
    {
      "cell_type": "code",
      "execution_count": 19,
      "metadata": {
        "id": "fBVo5s-dQCBb"
      },
      "outputs": [],
      "source": [
        "vae_loss = BetaVAELoss(beta=1.0)"
      ]
    },
    {
      "cell_type": "markdown",
      "source": [
        "We instantiate an optimizer `torch.optim.AdamW`, taking the `VAEModel` parameters as trainable parameters and with the `learning_rate` fixed above."
      ],
      "metadata": {
        "id": "y30cwm-JCKKF"
      }
    },
    {
      "cell_type": "code",
      "execution_count": 20,
      "metadata": {
        "id": "GiqsBcP7KIT3"
      },
      "outputs": [],
      "source": [
        "optimizer = torch.optim.AdamW(model.parameters(), lr=learning_rate, weight_decay=1e-4)"
      ]
    },
    {
      "cell_type": "markdown",
      "source": [
        "We can now start the training, putting it all together."
      ],
      "metadata": {
        "id": "rYXfYo_nCzdi"
      }
    },
    {
      "cell_type": "code",
      "execution_count": 21,
      "metadata": {
        "id": "gVYyIy7bQdyA",
        "colab": {
          "base_uri": "https://localhost:8080/"
        },
        "outputId": "b1224e69-6e2f-4767-9ac4-25ebd596c0ed"
      },
      "outputs": [
        {
          "output_type": "stream",
          "name": "stderr",
          "text": [
            "Epoch 0: 100%|██████████| 8640/8640 [01:52<00:00, 76.84batch/s, loss=74]\n"
          ]
        },
        {
          "output_type": "stream",
          "name": "stdout",
          "text": [
            "Epoch 0: Train Loss: 113.4721\n"
          ]
        },
        {
          "output_type": "stream",
          "name": "stderr",
          "text": [
            "Epoch 1: 100%|██████████| 8640/8640 [01:46<00:00, 80.99batch/s, loss=62.6]\n"
          ]
        },
        {
          "output_type": "stream",
          "name": "stdout",
          "text": [
            "Epoch 1: Train Loss: 72.1213\n"
          ]
        },
        {
          "output_type": "stream",
          "name": "stderr",
          "text": [
            "Epoch 2: 100%|██████████| 8640/8640 [01:46<00:00, 81.08batch/s, loss=55.4]\n"
          ]
        },
        {
          "output_type": "stream",
          "name": "stdout",
          "text": [
            "Epoch 2: Train Loss: 59.5709\n"
          ]
        },
        {
          "output_type": "stream",
          "name": "stderr",
          "text": [
            "Epoch 3: 100%|██████████| 8640/8640 [01:47<00:00, 80.29batch/s, loss=51.7]\n"
          ]
        },
        {
          "output_type": "stream",
          "name": "stdout",
          "text": [
            "Epoch 3: Train Loss: 53.6983\n"
          ]
        },
        {
          "output_type": "stream",
          "name": "stderr",
          "text": [
            "Epoch 4: 100%|██████████| 8640/8640 [01:53<00:00, 76.14batch/s, loss=49.1]\n"
          ]
        },
        {
          "output_type": "stream",
          "name": "stdout",
          "text": [
            "Epoch 4: Train Loss: 50.3108\n"
          ]
        },
        {
          "output_type": "stream",
          "name": "stderr",
          "text": [
            "Epoch 5: 100%|██████████| 8640/8640 [01:55<00:00, 74.70batch/s, loss=47.4]\n"
          ]
        },
        {
          "output_type": "stream",
          "name": "stdout",
          "text": [
            "Epoch 5: Train Loss: 48.0013\n"
          ]
        },
        {
          "output_type": "stream",
          "name": "stderr",
          "text": [
            "Epoch 6: 100%|██████████| 8640/8640 [01:50<00:00, 78.33batch/s, loss=45.6]\n"
          ]
        },
        {
          "output_type": "stream",
          "name": "stdout",
          "text": [
            "Epoch 6: Train Loss: 46.2198\n"
          ]
        },
        {
          "output_type": "stream",
          "name": "stderr",
          "text": [
            "Epoch 7: 100%|██████████| 8640/8640 [01:51<00:00, 77.25batch/s, loss=48.3]\n"
          ]
        },
        {
          "output_type": "stream",
          "name": "stdout",
          "text": [
            "Epoch 7: Train Loss: 44.9662\n"
          ]
        },
        {
          "output_type": "stream",
          "name": "stderr",
          "text": [
            "Epoch 8: 100%|██████████| 8640/8640 [01:51<00:00, 77.18batch/s, loss=43.3]\n"
          ]
        },
        {
          "output_type": "stream",
          "name": "stdout",
          "text": [
            "Epoch 8: Train Loss: 43.9680\n"
          ]
        },
        {
          "output_type": "stream",
          "name": "stderr",
          "text": [
            "Epoch 9: 100%|██████████| 8640/8640 [01:49<00:00, 78.87batch/s, loss=42.8]"
          ]
        },
        {
          "output_type": "stream",
          "name": "stdout",
          "text": [
            "Epoch 9: Train Loss: 43.1934\n"
          ]
        },
        {
          "output_type": "stream",
          "name": "stderr",
          "text": [
            "\n"
          ]
        }
      ],
      "source": [
        "model.train()\n",
        "\n",
        "for epoch in range(0,n_epoch):\n",
        "  train_loss=0.0\n",
        "\n",
        "  with tqdm(train_loader, unit=\"batch\") as tepoch:\n",
        "    for data, factors in tepoch:\n",
        "      tepoch.set_description(f\"Epoch {epoch}\")\n",
        "\n",
        "      # Put data on correct device, GPU or CPU\n",
        "      data = data.to(device)\n",
        "\n",
        "      # Pass the input data through the model\n",
        "      predict = model(data)\n",
        "      reconstructions = predict['reconstructions']\n",
        "      stats_qzx = predict['stats_qzx']\n",
        "\n",
        "      # Compute the beta-VAE loss\n",
        "      loss = vae_loss(data, reconstructions, stats_qzx)\n",
        "\n",
        "      # Backpropagate\n",
        "      optimizer.zero_grad()\n",
        "      loss.backward()\n",
        "      optimizer.step()\n",
        "      # Aggregate the training loss for display at the end of the epoch\n",
        "      train_loss += loss.item()\n",
        "\n",
        "      # tqdm bar displays the loss\n",
        "      tepoch.set_postfix(loss=loss.item())\n",
        "\n",
        "  print('Epoch {}: Train Loss: {:.4f}'.format(epoch, train_loss/len(train_loader)))"
      ]
    },
    {
      "cell_type": "markdown",
      "source": [
        "#Testing the VAE model\n",
        "\n",
        "We can now test the performance of the VAE model in qualitative terms, both regarding image reconstruction and image generation."
      ],
      "metadata": {
        "id": "T5qIXavuDADR"
      }
    },
    {
      "cell_type": "code",
      "execution_count": 22,
      "metadata": {
        "id": "SIuyFQ-SSPgS"
      },
      "outputs": [],
      "source": [
        "test_loader = torch.utils.data.DataLoader(test_dataset, batch_size=64, shuffle=False)"
      ]
    },
    {
      "cell_type": "markdown",
      "source": [
        "We'll store the reconstructed images for all data samples in the test dataset in `test_reconstructions`:"
      ],
      "metadata": {
        "id": "h1wx0zOiDtW8"
      }
    },
    {
      "cell_type": "code",
      "source": [
        "test_reconstructions = np.zeros((len(test_dataset), 64, 64), dtype=np.uint)"
      ],
      "metadata": {
        "id": "LMT4RL5xDsZf"
      },
      "execution_count": 23,
      "outputs": []
    },
    {
      "cell_type": "code",
      "execution_count": 25,
      "metadata": {
        "id": "daDmHGITTZdU",
        "colab": {
          "base_uri": "https://localhost:8080/"
        },
        "outputId": "e81a9d66-11b9-4e7f-9de6-fdf7af42f74a"
      },
      "outputs": [
        {
          "output_type": "stream",
          "name": "stderr",
          "text": [
            "100%|██████████| 173/173 [00:02<00:00, 74.85batch/s, loss=40.6]"
          ]
        },
        {
          "output_type": "stream",
          "name": "stdout",
          "text": [
            "Test Loss: 40.7698\n"
          ]
        },
        {
          "output_type": "stream",
          "name": "stderr",
          "text": [
            "\n"
          ]
        }
      ],
      "source": [
        "model.eval()\n",
        "test_loss=0.0\n",
        "\n",
        "n = 0\n",
        "with tqdm(test_loader, unit=\"batch\") as tepoch:\n",
        "  for data, factors in tepoch:\n",
        "    # Put the data on the correct device:\n",
        "    data = data.to(device)\n",
        "\n",
        "    # Pass the data through the model\n",
        "    predict = model(data, mode='mean')\n",
        "    reconstructions = predict['reconstructions']\n",
        "    stats_qzx = predict['stats_qzx']\n",
        "\n",
        "    # Compute the beta-VAE loss\n",
        "    loss = vae_loss(data, reconstructions, stats_qzx)\n",
        "\n",
        "    # Store quantities of interest\n",
        "    # This time, we want to store reconstructed images obtained by thresholding\n",
        "    # the probability map reconstructions at value 0.5, then multiplying the\n",
        "    # resulting map by 255 to obtain an integer image taking value 0 or 255\n",
        "    # at every pixel.\n",
        "    # Using .detach().cpu().numpy(), the image will be stored as a np.array on\n",
        "    # CPU.\n",
        "    batch_size = stats_qzx.shape[0]\n",
        "    test_reconstructions[n:(n+batch_size), :, :] = (reconstructions.detach().cpu().numpy().squeeze(1) >= 0.5) * 255\n",
        "\n",
        "    # Compute the loss\n",
        "    test_loss += loss.item()\n",
        "\n",
        "    # tqdm bar displays the loss\n",
        "    tepoch.set_postfix(loss=loss.item())\n",
        "\n",
        "    # increment n to fill next parts of the arrays\n",
        "    n += stats_qzx.shape[0]\n",
        "\n",
        "print('Test Loss: {:.4f}'.format(test_loss/len(test_loader)))"
      ]
    },
    {
      "cell_type": "markdown",
      "source": [
        "We can now visualize the input test images side to side with their reconstructions, for a random subset of 8 images. We will evaluate the reconstruction performance quantitatively in the second part of the lab."
      ],
      "metadata": {
        "id": "W_9izGifFJYc"
      }
    },
    {
      "cell_type": "code",
      "execution_count": 26,
      "metadata": {
        "id": "CuTDU0ntXs2V",
        "colab": {
          "base_uri": "https://localhost:8080/",
          "height": 356
        },
        "outputId": "ee721d9d-6fea-4be8-99f1-f7bb0a576a0c"
      },
      "outputs": [
        {
          "output_type": "display_data",
          "data": {
            "text/plain": [
              "<Figure size 1500x400 with 16 Axes>"
            ],
            "image/png": "[encoded data removed]"
          },
          "metadata": {}
        }
      ],
      "source": [
        "plt.figure(figsize=(15, 4))\n",
        "for idx in range(0,8):\n",
        "    rand_ind = np.random.randint(0,len(test_dataset))\n",
        "\n",
        "    plt.subplot(2, 8, idx+1)\n",
        "    plt.imshow(test_dataset.imgs[rand_ind,:,:], cmap='gray')\n",
        "\n",
        "    plt.subplot(2, 8, 8+idx+1)\n",
        "    plt.imshow(test_reconstructions[rand_ind,:,:], cmap='gray')"
      ]
    },
    {
      "cell_type": "markdown",
      "source": [
        "Finally, we want to evaluate qualitatively the generative ability of the model. Synthetize 8 images using `generate_samples` from the `VAEModel` class.\n",
        "\n",
        "`generate_sample` actually generates probability maps. Again threshold them at probability 0.5, multiply by 255 to obtain integer images, and store them as a numpy array on CPU (in `generated_images`)."
      ],
      "metadata": {
        "id": "vAV8X3bZFWZg"
      }
    },
    {
      "cell_type": "code",
      "execution_count": 27,
      "metadata": {
        "id": "fcMl1aQNaXom"
      },
      "outputs": [],
      "source": [
        "# This should be an (8, 64, 64) np.array:\n",
        "generated_images = (model.generate_samples(N=8)['generations'].detach().cpu().numpy() >= 0.5) * 255"
      ]
    },
    {
      "cell_type": "markdown",
      "source": [
        "We can visualize the generated images."
      ],
      "metadata": {
        "id": "vOpr8CuJGS8d"
      }
    },
    {
      "cell_type": "code",
      "execution_count": 29,
      "metadata": {
        "id": "vKPi9Fzja_xD",
        "colab": {
          "base_uri": "https://localhost:8080/",
          "height": 188
        },
        "outputId": "49942eb9-09f6-4d81-ed74-4957c97bae77"
      },
      "outputs": [
        {
          "output_type": "display_data",
          "data": {
            "text/plain": [
              "<Figure size 1500x300 with 8 Axes>"
            ],
            "image/png": "[encoded data removed]"
          },
          "metadata": {}
        }
      ],
      "source": [
        "plt.figure(figsize=(15, 3))\n",
        "for idx in range(0,8):\n",
        "    plt.subplot(1, 8, idx+1)\n",
        "    plt.imshow(generated_images[idx].squeeze(), cmap='gray')\n"
      ]
    },
    {
      "cell_type": "markdown",
      "source": [
        "We can see visually that the generated images are far from perfect.\n",
        "\n",
        "To assign a quantitative score for the generative performance, we could use the FID score. This would involve\n",
        "* loading a pretrained InceptionV3 model,\n",
        "* passing a number (say, 1000) of real test images through the network and recording their embeddings,\n",
        "* similarly passing 1000 generated images through the network and recording their embeddings,\n",
        "* from the embeddings of the real test images (resp. generated images), computing statistics (mean + variance)\n",
        "* comparing the statistics of the real test images and of the generated images according to slide 54.\n",
        "\n",
        "Note that images have to be standardized according to the expected preprocessing of InceptionV3 before passing them through the network. In our case, InceptionV3 expects 3-channel color images in a certain range of values ([0,1]) and applies a rescaling (mean/std) to the images before inputting them to the network. This pipeline has to be respected."
      ],
      "metadata": {
        "id": "MGkfr22QIB4A"
      }
    },
    {
      "cell_type": "markdown",
      "source": [
        "We do not do it here. This is left as completely optional work (do not do it unless you have finished the rest of the lab!). **BONUS:** compute the FID score for your trained VAE model, using `len(test_dataset)` images to compute the statistics."
      ],
      "metadata": {
        "id": "h1HkOPHWIDHJ"
      }
    },
    {
      "cell_type": "markdown",
      "source": [
        "# Second part: comparing models\n",
        "\n",
        "We will now compare different $\\beta$-VAE models, obtained for different values of the hyperparameter $\\beta$, in terms of image reconstruction capability and disentanglement (and also visual quality of the generated images).\n",
        "\n",
        "We will also add to the comparison a model trained with an Annealed VAE similar to the framework presented in slide 63.\n",
        "\n",
        "(The models have been trained on 75% of the dSprites dataset, for roughly 10 epochs each.)"
      ],
      "metadata": {
        "id": "7TIAZ0VxIjvW"
      }
    },
    {
      "cell_type": "code",
      "source": [
        "D = 10"
      ],
      "metadata": {
        "id": "02BQ_PRuSqw0"
      },
      "execution_count": 30,
      "outputs": []
    },
    {
      "cell_type": "code",
      "source": [
        "device = torch.device(\"cuda:0\" if torch.cuda.is_available() else \"cpu\")\n",
        "print(device)"
      ],
      "metadata": {
        "colab": {
          "base_uri": "https://localhost:8080/"
        },
        "id": "rHbwziT7Spup",
        "outputId": "cbcbf836-608f-4118-9b03-a9f85a6cfbc6"
      },
      "execution_count": 31,
      "outputs": [
        {
          "output_type": "stream",
          "name": "stdout",
          "text": [
            "cuda:0\n"
          ]
        }
      ]
    },
    {
      "cell_type": "markdown",
      "source": [
        "Loading model `model_001` for $\\beta := 10^{-2}$"
      ],
      "metadata": {
        "id": "5NH0HEzkHwt1"
      }
    },
    {
      "cell_type": "code",
      "source": [
        "!wget --no-check-certificate -r 'https://drive.google.com/uc?export=download&id=1bV9BhY7B_K3fuco5FvVlrqy3usrONJCF' -O weights_001.pth\n",
        "\n",
        "if torch.cuda.is_available():\n",
        "  weights_dict = torch.load('weights_001.pth')\n",
        "else:\n",
        "  weights_dict = torch.load('weights_001.pth', map_location=torch.device('cpu'))\n",
        "\n",
        "model_001 = VAEModel(latent_dim=D)\n",
        "model_001.load_state_dict(weights_dict)\n",
        "model_001 = model_001.to(device)\n",
        "model_001.eval()"
      ],
      "metadata": {
        "id": "HGH9TDBzHAnL",
        "colab": {
          "base_uri": "https://localhost:8080/"
        },
        "outputId": "79f8b08f-e731-4878-9976-73eaa0a90da1"
      },
      "execution_count": 32,
      "outputs": [
        {
          "output_type": "stream",
          "name": "stdout",
          "text": [
            "WARNING: combining -O with -r or -p will mean that all downloaded content\n",
            "will be placed in the single file you specified.\n",
            "\n",
            "--2025-03-18 13:22:00--  https://drive.google.com/uc?export=download&id=1bV9BhY7B_K3fuco5FvVlrqy3usrONJCF\n",
            "Resolving drive.google.com (drive.google.com)... 142.251.2.113, 142.251.2.139, 142.251.2.101, ...\n",
            "Connecting to drive.google.com (drive.google.com)|142.251.2.113|:443... connected.\n",
            "HTTP request sent, awaiting response... 303 See Other\n",
            "Location: https://drive.usercontent.google.com/download?id=1bV9BhY7B_K3fuco5FvVlrqy3usrONJCF&export=download [following]\n",
            "--2025-03-18 13:22:00--  https://drive.usercontent.google.com/download?id=1bV9BhY7B_K3fuco5FvVlrqy3usrONJCF&export=download\n",
            "Resolving drive.usercontent.google.com (drive.usercontent.google.com)... 142.250.101.132, 2607:f8b0:4023:c06::84\n",
            "Connecting to drive.usercontent.google.com (drive.usercontent.google.com)|142.250.101.132|:443... connected.\n",
            "HTTP request sent, awaiting response... 200 OK\n",
            "Length: 1489737 (1.4M) [application/octet-stream]\n",
            "Saving to: ‘weights_001.pth’\n",
            "\n",
            "weights_001.pth     100%[===================>]   1.42M  --.-KB/s    in 0.1s    \n",
            "\n",
            "2025-03-18 13:22:04 (12.0 MB/s) - ‘weights_001.pth’ saved [1489737/1489737]\n",
            "\n",
            "FINISHED --2025-03-18 13:22:04--\n",
            "Total wall clock time: 4.3s\n",
            "Downloaded: 1 files, 1.4M in 0.1s (12.0 MB/s)\n"
          ]
        },
        {
          "output_type": "execute_result",
          "data": {
            "text/plain": [
              "VAEModel(\n",
              "  (encoder): Encoder(\n",
              "    (conv1): Conv2d(1, 32, kernel_size=(4, 4), stride=(2, 2), padding=(1, 1))\n",
              "    (conv2): Conv2d(32, 32, kernel_size=(4, 4), stride=(2, 2), padding=(1, 1))\n",
              "    (conv3): Conv2d(32, 32, kernel_size=(4, 4), stride=(2, 2), padding=(1, 1))\n",
              "    (conv4): Conv2d(32, 32, kernel_size=(4, 4), stride=(2, 2), padding=(1, 1))\n",
              "    (lin1): Linear(in_features=512, out_features=256, bias=True)\n",
              "    (lin2): Linear(in_features=256, out_features=20, bias=True)\n",
              "  )\n",
              "  (decoder): Decoder(\n",
              "    (lin1): Linear(in_features=10, out_features=256, bias=True)\n",
              "    (lin2): Linear(in_features=256, out_features=512, bias=True)\n",
              "    (convT1): ConvTranspose2d(32, 32, kernel_size=(4, 4), stride=(2, 2), padding=(1, 1))\n",
              "    (convT2): ConvTranspose2d(32, 32, kernel_size=(4, 4), stride=(2, 2), padding=(1, 1))\n",
              "    (convT3): ConvTranspose2d(32, 32, kernel_size=(4, 4), stride=(2, 2), padding=(1, 1))\n",
              "    (convT4): ConvTranspose2d(32, 1, kernel_size=(4, 4), stride=(2, 2), padding=(1, 1))\n",
              "  )\n",
              ")"
            ]
          },
          "metadata": {},
          "execution_count": 32
        }
      ]
    },
    {
      "cell_type": "markdown",
      "source": [
        "Loading model `model_01` for $\\beta := 10^{-1}$"
      ],
      "metadata": {
        "id": "kmjj_dKsIj8-"
      }
    },
    {
      "cell_type": "code",
      "source": [
        "!wget --no-check-certificate -r 'https://drive.google.com/uc?export=download&id=1tCozYj12l-WiZk-JB9GsqRm1YZ8VKprO' -O weights_01.pth\n",
        "\n",
        "if torch.cuda.is_available():\n",
        "  weights_dict = torch.load('weights_01.pth')\n",
        "else:\n",
        "  weights_dict = torch.load('weights_01.pth', map_location=torch.device('cpu'))\n",
        "\n",
        "model_01 = VAEModel(latent_dim=D)\n",
        "model_01.load_state_dict(weights_dict)\n",
        "model_01 = model_01.to(device)\n",
        "model_01.eval()"
      ],
      "metadata": {
        "id": "iQKP3G7eJLDW",
        "colab": {
          "base_uri": "https://localhost:8080/"
        },
        "outputId": "a2f8f802-7cc9-45e7-ae1d-ff3154c2976a"
      },
      "execution_count": 33,
      "outputs": [
        {
          "output_type": "stream",
          "name": "stdout",
          "text": [
            "WARNING: combining -O with -r or -p will mean that all downloaded content\n",
            "will be placed in the single file you specified.\n",
            "\n",
            "--2025-03-18 13:22:10--  https://drive.google.com/uc?export=download&id=1tCozYj12l-WiZk-JB9GsqRm1YZ8VKprO\n",
            "Resolving drive.google.com (drive.google.com)... 142.251.2.113, 142.251.2.139, 142.251.2.101, ...\n",
            "Connecting to drive.google.com (drive.google.com)|142.251.2.113|:443... connected.\n",
            "HTTP request sent, awaiting response... 303 See Other\n",
            "Location: https://drive.usercontent.google.com/download?id=1tCozYj12l-WiZk-JB9GsqRm1YZ8VKprO&export=download [following]\n",
            "--2025-03-18 13:22:10--  https://drive.usercontent.google.com/download?id=1tCozYj12l-WiZk-JB9GsqRm1YZ8VKprO&export=download\n",
            "Resolving drive.usercontent.google.com (drive.usercontent.google.com)... 142.250.101.132, 2607:f8b0:4023:c06::84\n",
            "Connecting to drive.usercontent.google.com (drive.usercontent.google.com)|142.250.101.132|:443... connected.\n",
            "HTTP request sent, awaiting response... 200 OK\n",
            "Length: 1489737 (1.4M) [application/octet-stream]\n",
            "Saving to: ‘weights_01.pth’\n",
            "\n",
            "weights_01.pth      100%[===================>]   1.42M  --.-KB/s    in 0.1s    \n",
            "\n",
            "2025-03-18 13:22:13 (11.3 MB/s) - ‘weights_01.pth’ saved [1489737/1489737]\n",
            "\n",
            "FINISHED --2025-03-18 13:22:13--\n",
            "Total wall clock time: 3.5s\n",
            "Downloaded: 1 files, 1.4M in 0.1s (11.3 MB/s)\n"
          ]
        },
        {
          "output_type": "execute_result",
          "data": {
            "text/plain": [
              "VAEModel(\n",
              "  (encoder): Encoder(\n",
              "    (conv1): Conv2d(1, 32, kernel_size=(4, 4), stride=(2, 2), padding=(1, 1))\n",
              "    (conv2): Conv2d(32, 32, kernel_size=(4, 4), stride=(2, 2), padding=(1, 1))\n",
              "    (conv3): Conv2d(32, 32, kernel_size=(4, 4), stride=(2, 2), padding=(1, 1))\n",
              "    (conv4): Conv2d(32, 32, kernel_size=(4, 4), stride=(2, 2), padding=(1, 1))\n",
              "    (lin1): Linear(in_features=512, out_features=256, bias=True)\n",
              "    (lin2): Linear(in_features=256, out_features=20, bias=True)\n",
              "  )\n",
              "  (decoder): Decoder(\n",
              "    (lin1): Linear(in_features=10, out_features=256, bias=True)\n",
              "    (lin2): Linear(in_features=256, out_features=512, bias=True)\n",
              "    (convT1): ConvTranspose2d(32, 32, kernel_size=(4, 4), stride=(2, 2), padding=(1, 1))\n",
              "    (convT2): ConvTranspose2d(32, 32, kernel_size=(4, 4), stride=(2, 2), padding=(1, 1))\n",
              "    (convT3): ConvTranspose2d(32, 32, kernel_size=(4, 4), stride=(2, 2), padding=(1, 1))\n",
              "    (convT4): ConvTranspose2d(32, 1, kernel_size=(4, 4), stride=(2, 2), padding=(1, 1))\n",
              "  )\n",
              ")"
            ]
          },
          "metadata": {},
          "execution_count": 33
        }
      ]
    },
    {
      "cell_type": "markdown",
      "source": [
        "Loading model `model_1` for $\\beta := 1.$"
      ],
      "metadata": {
        "id": "jEQAwom_ImE7"
      }
    },
    {
      "cell_type": "code",
      "source": [
        "!wget --no-check-certificate -r 'https://drive.google.com/uc?export=download&id=1kBoLftBkhdEjNe-ObLmX-WjOrISJFerR' -O weights_1.pth\n",
        "\n",
        "if torch.cuda.is_available():\n",
        "  weights_dict = torch.load('weights_1.pth')\n",
        "else:\n",
        "  weights_dict = torch.load('weights_1.pth', map_location=torch.device('cpu'))\n",
        "\n",
        "model_1 = VAEModel(latent_dim=D)\n",
        "model_1.load_state_dict(weights_dict)\n",
        "model_1 = model_1.to(device)\n",
        "model_1.eval()"
      ],
      "metadata": {
        "id": "J6PnJGAZJY_S",
        "colab": {
          "base_uri": "https://localhost:8080/"
        },
        "outputId": "144afc54-de40-44e0-d59e-014f3f893caa"
      },
      "execution_count": 34,
      "outputs": [
        {
          "output_type": "stream",
          "name": "stdout",
          "text": [
            "WARNING: combining -O with -r or -p will mean that all downloaded content\n",
            "will be placed in the single file you specified.\n",
            "\n",
            "--2025-03-18 13:22:14--  https://drive.google.com/uc?export=download&id=1kBoLftBkhdEjNe-ObLmX-WjOrISJFerR\n",
            "Resolving drive.google.com (drive.google.com)... 142.251.2.113, 142.251.2.139, 142.251.2.101, ...\n",
            "Connecting to drive.google.com (drive.google.com)|142.251.2.113|:443... connected.\n",
            "HTTP request sent, awaiting response... 303 See Other\n",
            "Location: https://drive.usercontent.google.com/download?id=1kBoLftBkhdEjNe-ObLmX-WjOrISJFerR&export=download [following]\n",
            "--2025-03-18 13:22:14--  https://drive.usercontent.google.com/download?id=1kBoLftBkhdEjNe-ObLmX-WjOrISJFerR&export=download\n",
            "Resolving drive.usercontent.google.com (drive.usercontent.google.com)... 142.250.101.132, 2607:f8b0:4023:c06::84\n",
            "Connecting to drive.usercontent.google.com (drive.usercontent.google.com)|142.250.101.132|:443... connected.\n",
            "HTTP request sent, awaiting response... 200 OK\n",
            "Length: 1489711 (1.4M) [application/octet-stream]\n",
            "Saving to: ‘weights_1.pth’\n",
            "\n",
            "weights_1.pth       100%[===================>]   1.42M  --.-KB/s    in 0.1s    \n",
            "\n",
            "2025-03-18 13:22:17 (13.0 MB/s) - ‘weights_1.pth’ saved [1489711/1489711]\n",
            "\n",
            "FINISHED --2025-03-18 13:22:17--\n",
            "Total wall clock time: 3.6s\n",
            "Downloaded: 1 files, 1.4M in 0.1s (13.0 MB/s)\n"
          ]
        },
        {
          "output_type": "execute_result",
          "data": {
            "text/plain": [
              "VAEModel(\n",
              "  (encoder): Encoder(\n",
              "    (conv1): Conv2d(1, 32, kernel_size=(4, 4), stride=(2, 2), padding=(1, 1))\n",
              "    (conv2): Conv2d(32, 32, kernel_size=(4, 4), stride=(2, 2), padding=(1, 1))\n",
              "    (conv3): Conv2d(32, 32, kernel_size=(4, 4), stride=(2, 2), padding=(1, 1))\n",
              "    (conv4): Conv2d(32, 32, kernel_size=(4, 4), stride=(2, 2), padding=(1, 1))\n",
              "    (lin1): Linear(in_features=512, out_features=256, bias=True)\n",
              "    (lin2): Linear(in_features=256, out_features=20, bias=True)\n",
              "  )\n",
              "  (decoder): Decoder(\n",
              "    (lin1): Linear(in_features=10, out_features=256, bias=True)\n",
              "    (lin2): Linear(in_features=256, out_features=512, bias=True)\n",
              "    (convT1): ConvTranspose2d(32, 32, kernel_size=(4, 4), stride=(2, 2), padding=(1, 1))\n",
              "    (convT2): ConvTranspose2d(32, 32, kernel_size=(4, 4), stride=(2, 2), padding=(1, 1))\n",
              "    (convT3): ConvTranspose2d(32, 32, kernel_size=(4, 4), stride=(2, 2), padding=(1, 1))\n",
              "    (convT4): ConvTranspose2d(32, 1, kernel_size=(4, 4), stride=(2, 2), padding=(1, 1))\n",
              "  )\n",
              ")"
            ]
          },
          "metadata": {},
          "execution_count": 34
        }
      ]
    },
    {
      "cell_type": "markdown",
      "source": [
        "Loading model `model_3` for $\\beta:=3$"
      ],
      "metadata": {
        "id": "hEvDeHDLU0Mb"
      }
    },
    {
      "cell_type": "code",
      "source": [
        "!wget --no-check-certificate -r 'https://drive.google.com/uc?export=download&id=1q3cdDl46IiX2ZG416a0DGvKmwzjCDz9F' -O weights_3.pth\n",
        "\n",
        "if torch.cuda.is_available():\n",
        "  weights_dict = torch.load('weights_3.pth')\n",
        "else:\n",
        "  weights_dict = torch.load('weights_3.pth', map_location=torch.device('cpu'))\n",
        "\n",
        "model_3 = VAEModel(latent_dim=D)\n",
        "model_3.load_state_dict(weights_dict)\n",
        "model_3 = model_3.to(device)\n",
        "model_3.eval()"
      ],
      "metadata": {
        "id": "b_GJLTyuUzWw",
        "colab": {
          "base_uri": "https://localhost:8080/"
        },
        "outputId": "312dc21e-d017-4486-e81c-42c154add5d9"
      },
      "execution_count": 35,
      "outputs": [
        {
          "output_type": "stream",
          "name": "stdout",
          "text": [
            "WARNING: combining -O with -r or -p will mean that all downloaded content\n",
            "will be placed in the single file you specified.\n",
            "\n",
            "--2025-03-18 13:22:17--  https://drive.google.com/uc?export=download&id=1q3cdDl46IiX2ZG416a0DGvKmwzjCDz9F\n",
            "Resolving drive.google.com (drive.google.com)... 142.251.2.113, 142.251.2.139, 142.251.2.101, ...\n",
            "Connecting to drive.google.com (drive.google.com)|142.251.2.113|:443... connected.\n",
            "HTTP request sent, awaiting response... 303 See Other\n",
            "Location: https://drive.usercontent.google.com/download?id=1q3cdDl46IiX2ZG416a0DGvKmwzjCDz9F&export=download [following]\n",
            "--2025-03-18 13:22:17--  https://drive.usercontent.google.com/download?id=1q3cdDl46IiX2ZG416a0DGvKmwzjCDz9F&export=download\n",
            "Resolving drive.usercontent.google.com (drive.usercontent.google.com)... 142.250.101.132, 2607:f8b0:4023:c06::84\n",
            "Connecting to drive.usercontent.google.com (drive.usercontent.google.com)|142.250.101.132|:443... connected.\n",
            "HTTP request sent, awaiting response... 200 OK\n",
            "Length: 1489737 (1.4M) [application/octet-stream]\n",
            "Saving to: ‘weights_3.pth’\n",
            "\n",
            "weights_3.pth       100%[===================>]   1.42M  --.-KB/s    in 0.1s    \n",
            "\n",
            "2025-03-18 13:22:21 (12.9 MB/s) - ‘weights_3.pth’ saved [1489737/1489737]\n",
            "\n",
            "FINISHED --2025-03-18 13:22:21--\n",
            "Total wall clock time: 3.5s\n",
            "Downloaded: 1 files, 1.4M in 0.1s (12.9 MB/s)\n"
          ]
        },
        {
          "output_type": "execute_result",
          "data": {
            "text/plain": [
              "VAEModel(\n",
              "  (encoder): Encoder(\n",
              "    (conv1): Conv2d(1, 32, kernel_size=(4, 4), stride=(2, 2), padding=(1, 1))\n",
              "    (conv2): Conv2d(32, 32, kernel_size=(4, 4), stride=(2, 2), padding=(1, 1))\n",
              "    (conv3): Conv2d(32, 32, kernel_size=(4, 4), stride=(2, 2), padding=(1, 1))\n",
              "    (conv4): Conv2d(32, 32, kernel_size=(4, 4), stride=(2, 2), padding=(1, 1))\n",
              "    (lin1): Linear(in_features=512, out_features=256, bias=True)\n",
              "    (lin2): Linear(in_features=256, out_features=20, bias=True)\n",
              "  )\n",
              "  (decoder): Decoder(\n",
              "    (lin1): Linear(in_features=10, out_features=256, bias=True)\n",
              "    (lin2): Linear(in_features=256, out_features=512, bias=True)\n",
              "    (convT1): ConvTranspose2d(32, 32, kernel_size=(4, 4), stride=(2, 2), padding=(1, 1))\n",
              "    (convT2): ConvTranspose2d(32, 32, kernel_size=(4, 4), stride=(2, 2), padding=(1, 1))\n",
              "    (convT3): ConvTranspose2d(32, 32, kernel_size=(4, 4), stride=(2, 2), padding=(1, 1))\n",
              "    (convT4): ConvTranspose2d(32, 1, kernel_size=(4, 4), stride=(2, 2), padding=(1, 1))\n",
              "  )\n",
              ")"
            ]
          },
          "metadata": {},
          "execution_count": 35
        }
      ]
    },
    {
      "cell_type": "markdown",
      "source": [
        "Loading model `model_10` for $\\beta := 10$"
      ],
      "metadata": {
        "id": "HdlaNC2hIuZO"
      }
    },
    {
      "cell_type": "code",
      "source": [
        "!wget --no-check-certificate -r 'https://drive.google.com/uc?export=download&id=1IljU8BHfedXHNHzrPCe4ERUDo_Tnxh3s' -O weights_10.pth\n",
        "\n",
        "if torch.cuda.is_available():\n",
        "  weights_dict = torch.load('weights_10.pth')\n",
        "else:\n",
        "  weights_dict = torch.load('weights_10.pth', map_location=torch.device('cpu'))\n",
        "\n",
        "model_10 = VAEModel(latent_dim=D)\n",
        "model_10.load_state_dict(weights_dict)\n",
        "model_10 = model_10.to(device)\n",
        "model_10.eval()"
      ],
      "metadata": {
        "id": "S_GKpID0J7Ki",
        "colab": {
          "base_uri": "https://localhost:8080/"
        },
        "outputId": "875fba9c-d026-4bf6-a9a3-d8746f8906b1"
      },
      "execution_count": 36,
      "outputs": [
        {
          "output_type": "stream",
          "name": "stdout",
          "text": [
            "WARNING: combining -O with -r or -p will mean that all downloaded content\n",
            "will be placed in the single file you specified.\n",
            "\n",
            "--2025-03-18 13:22:21--  https://drive.google.com/uc?export=download&id=1IljU8BHfedXHNHzrPCe4ERUDo_Tnxh3s\n",
            "Resolving drive.google.com (drive.google.com)... 142.251.2.113, 142.251.2.139, 142.251.2.101, ...\n",
            "Connecting to drive.google.com (drive.google.com)|142.251.2.113|:443... connected.\n",
            "HTTP request sent, awaiting response... 303 See Other\n",
            "Location: https://drive.usercontent.google.com/download?id=1IljU8BHfedXHNHzrPCe4ERUDo_Tnxh3s&export=download [following]\n",
            "--2025-03-18 13:22:21--  https://drive.usercontent.google.com/download?id=1IljU8BHfedXHNHzrPCe4ERUDo_Tnxh3s&export=download\n",
            "Resolving drive.usercontent.google.com (drive.usercontent.google.com)... 142.250.101.132, 2607:f8b0:4023:c06::84\n",
            "Connecting to drive.usercontent.google.com (drive.usercontent.google.com)|142.250.101.132|:443... connected.\n",
            "HTTP request sent, awaiting response... 200 OK\n",
            "Length: 1489711 (1.4M) [application/octet-stream]\n",
            "Saving to: ‘weights_10.pth’\n",
            "\n",
            "weights_10.pth      100%[===================>]   1.42M  --.-KB/s    in 0.1s    \n",
            "\n",
            "2025-03-18 13:22:24 (12.6 MB/s) - ‘weights_10.pth’ saved [1489711/1489711]\n",
            "\n",
            "FINISHED --2025-03-18 13:22:24--\n",
            "Total wall clock time: 3.6s\n",
            "Downloaded: 1 files, 1.4M in 0.1s (12.6 MB/s)\n"
          ]
        },
        {
          "output_type": "execute_result",
          "data": {
            "text/plain": [
              "VAEModel(\n",
              "  (encoder): Encoder(\n",
              "    (conv1): Conv2d(1, 32, kernel_size=(4, 4), stride=(2, 2), padding=(1, 1))\n",
              "    (conv2): Conv2d(32, 32, kernel_size=(4, 4), stride=(2, 2), padding=(1, 1))\n",
              "    (conv3): Conv2d(32, 32, kernel_size=(4, 4), stride=(2, 2), padding=(1, 1))\n",
              "    (conv4): Conv2d(32, 32, kernel_size=(4, 4), stride=(2, 2), padding=(1, 1))\n",
              "    (lin1): Linear(in_features=512, out_features=256, bias=True)\n",
              "    (lin2): Linear(in_features=256, out_features=20, bias=True)\n",
              "  )\n",
              "  (decoder): Decoder(\n",
              "    (lin1): Linear(in_features=10, out_features=256, bias=True)\n",
              "    (lin2): Linear(in_features=256, out_features=512, bias=True)\n",
              "    (convT1): ConvTranspose2d(32, 32, kernel_size=(4, 4), stride=(2, 2), padding=(1, 1))\n",
              "    (convT2): ConvTranspose2d(32, 32, kernel_size=(4, 4), stride=(2, 2), padding=(1, 1))\n",
              "    (convT3): ConvTranspose2d(32, 32, kernel_size=(4, 4), stride=(2, 2), padding=(1, 1))\n",
              "    (convT4): ConvTranspose2d(32, 1, kernel_size=(4, 4), stride=(2, 2), padding=(1, 1))\n",
              "  )\n",
              ")"
            ]
          },
          "metadata": {},
          "execution_count": 36
        }
      ]
    },
    {
      "cell_type": "markdown",
      "source": [
        "Loading model `model_100` for $\\beta := 100$"
      ],
      "metadata": {
        "id": "ECbcBdNaIw_a"
      }
    },
    {
      "cell_type": "code",
      "source": [
        "!wget --no-check-certificate -r 'https://drive.google.com/uc?export=download&id=1K1SMnENlZwo5pv-Xlct8aqpX-06sK6ZL' -O weights_100.pth\n",
        "\n",
        "if torch.cuda.is_available():\n",
        "  weights_dict = torch.load('weights_100.pth')\n",
        "else:\n",
        "  weights_dict = torch.load('weights_100.pth', map_location=torch.device('cpu'))\n",
        "\n",
        "model_100 = VAEModel(latent_dim=D)\n",
        "model_100.load_state_dict(weights_dict)\n",
        "model_100 = model_100.to(device)\n",
        "model_100.eval()"
      ],
      "metadata": {
        "id": "c28j1jddKTUl",
        "colab": {
          "base_uri": "https://localhost:8080/"
        },
        "outputId": "e7cb3bea-f65b-40be-99f2-c0cb0b7b8411"
      },
      "execution_count": 37,
      "outputs": [
        {
          "output_type": "stream",
          "name": "stdout",
          "text": [
            "WARNING: combining -O with -r or -p will mean that all downloaded content\n",
            "will be placed in the single file you specified.\n",
            "\n",
            "--2025-03-18 13:22:24--  https://drive.google.com/uc?export=download&id=1K1SMnENlZwo5pv-Xlct8aqpX-06sK6ZL\n",
            "Resolving drive.google.com (drive.google.com)... 142.251.2.113, 142.251.2.139, 142.251.2.101, ...\n",
            "Connecting to drive.google.com (drive.google.com)|142.251.2.113|:443... connected.\n",
            "HTTP request sent, awaiting response... 303 See Other\n",
            "Location: https://drive.usercontent.google.com/download?id=1K1SMnENlZwo5pv-Xlct8aqpX-06sK6ZL&export=download [following]\n",
            "--2025-03-18 13:22:24--  https://drive.usercontent.google.com/download?id=1K1SMnENlZwo5pv-Xlct8aqpX-06sK6ZL&export=download\n",
            "Resolving drive.usercontent.google.com (drive.usercontent.google.com)... 142.250.101.132, 2607:f8b0:4023:c06::84\n",
            "Connecting to drive.usercontent.google.com (drive.usercontent.google.com)|142.250.101.132|:443... connected.\n",
            "HTTP request sent, awaiting response... 200 OK\n",
            "Length: 1489914 (1.4M) [application/octet-stream]\n",
            "Saving to: ‘weights_100.pth’\n",
            "\n",
            "weights_100.pth     100%[===================>]   1.42M  --.-KB/s    in 0.1s    \n",
            "\n",
            "2025-03-18 13:22:29 (12.8 MB/s) - ‘weights_100.pth’ saved [1489914/1489914]\n",
            "\n",
            "FINISHED --2025-03-18 13:22:29--\n",
            "Total wall clock time: 4.4s\n",
            "Downloaded: 1 files, 1.4M in 0.1s (12.8 MB/s)\n"
          ]
        },
        {
          "output_type": "execute_result",
          "data": {
            "text/plain": [
              "VAEModel(\n",
              "  (encoder): Encoder(\n",
              "    (conv1): Conv2d(1, 32, kernel_size=(4, 4), stride=(2, 2), padding=(1, 1))\n",
              "    (conv2): Conv2d(32, 32, kernel_size=(4, 4), stride=(2, 2), padding=(1, 1))\n",
              "    (conv3): Conv2d(32, 32, kernel_size=(4, 4), stride=(2, 2), padding=(1, 1))\n",
              "    (conv4): Conv2d(32, 32, kernel_size=(4, 4), stride=(2, 2), padding=(1, 1))\n",
              "    (lin1): Linear(in_features=512, out_features=256, bias=True)\n",
              "    (lin2): Linear(in_features=256, out_features=20, bias=True)\n",
              "  )\n",
              "  (decoder): Decoder(\n",
              "    (lin1): Linear(in_features=10, out_features=256, bias=True)\n",
              "    (lin2): Linear(in_features=256, out_features=512, bias=True)\n",
              "    (convT1): ConvTranspose2d(32, 32, kernel_size=(4, 4), stride=(2, 2), padding=(1, 1))\n",
              "    (convT2): ConvTranspose2d(32, 32, kernel_size=(4, 4), stride=(2, 2), padding=(1, 1))\n",
              "    (convT3): ConvTranspose2d(32, 32, kernel_size=(4, 4), stride=(2, 2), padding=(1, 1))\n",
              "    (convT4): ConvTranspose2d(32, 1, kernel_size=(4, 4), stride=(2, 2), padding=(1, 1))\n",
              "  )\n",
              ")"
            ]
          },
          "metadata": {},
          "execution_count": 37
        }
      ]
    },
    {
      "cell_type": "markdown",
      "source": [
        "Loading model `model_annealed` for $\\beta$ progressively annealed from $100$ to $10^{-2}$"
      ],
      "metadata": {
        "id": "FjrGQojiIzw9"
      }
    },
    {
      "cell_type": "code",
      "source": [
        "!wget --no-check-certificate -r 'https://drive.google.com/uc?export=download&id=174oYfjI-jRuwIkDuccgHLW7hUFZ2tMy3' -O weights_annealed.pth\n",
        "\n",
        "if torch.cuda.is_available():\n",
        "  weights_dict = torch.load('weights_annealed.pth')\n",
        "else:\n",
        "  weights_dict = torch.load('weights_annealed.pth', map_location=torch.device('cpu'))\n",
        "\n",
        "model_annealed = VAEModel(latent_dim=D)\n",
        "model_annealed.load_state_dict(weights_dict)\n",
        "model_annealed = model_annealed.to(device)\n",
        "model_annealed.eval()"
      ],
      "metadata": {
        "id": "sckll61aKi6R",
        "colab": {
          "base_uri": "https://localhost:8080/"
        },
        "outputId": "27028861-ff98-4cdf-a81c-85617be4eac1"
      },
      "execution_count": 38,
      "outputs": [
        {
          "output_type": "stream",
          "name": "stdout",
          "text": [
            "WARNING: combining -O with -r or -p will mean that all downloaded content\n",
            "will be placed in the single file you specified.\n",
            "\n",
            "--2025-03-18 13:22:29--  https://drive.google.com/uc?export=download&id=174oYfjI-jRuwIkDuccgHLW7hUFZ2tMy3\n",
            "Resolving drive.google.com (drive.google.com)... 142.251.2.113, 142.251.2.139, 142.251.2.101, ...\n",
            "Connecting to drive.google.com (drive.google.com)|142.251.2.113|:443... connected.\n",
            "HTTP request sent, awaiting response... 303 See Other\n",
            "Location: https://drive.usercontent.google.com/download?id=174oYfjI-jRuwIkDuccgHLW7hUFZ2tMy3&export=download [following]\n",
            "--2025-03-18 13:22:29--  https://drive.usercontent.google.com/download?id=174oYfjI-jRuwIkDuccgHLW7hUFZ2tMy3&export=download\n",
            "Resolving drive.usercontent.google.com (drive.usercontent.google.com)... 142.250.101.132, 2607:f8b0:4023:c06::84\n",
            "Connecting to drive.usercontent.google.com (drive.usercontent.google.com)|142.250.101.132|:443... connected.\n",
            "HTTP request sent, awaiting response... 200 OK\n",
            "Length: 1490035 (1.4M) [application/octet-stream]\n",
            "Saving to: ‘weights_annealed.pth’\n",
            "\n",
            "weights_annealed.pt 100%[===================>]   1.42M  --.-KB/s    in 0.1s    \n",
            "\n",
            "2025-03-18 13:22:32 (12.1 MB/s) - ‘weights_annealed.pth’ saved [1490035/1490035]\n",
            "\n",
            "FINISHED --2025-03-18 13:22:32--\n",
            "Total wall clock time: 3.3s\n",
            "Downloaded: 1 files, 1.4M in 0.1s (12.1 MB/s)\n"
          ]
        },
        {
          "output_type": "execute_result",
          "data": {
            "text/plain": [
              "VAEModel(\n",
              "  (encoder): Encoder(\n",
              "    (conv1): Conv2d(1, 32, kernel_size=(4, 4), stride=(2, 2), padding=(1, 1))\n",
              "    (conv2): Conv2d(32, 32, kernel_size=(4, 4), stride=(2, 2), padding=(1, 1))\n",
              "    (conv3): Conv2d(32, 32, kernel_size=(4, 4), stride=(2, 2), padding=(1, 1))\n",
              "    (conv4): Conv2d(32, 32, kernel_size=(4, 4), stride=(2, 2), padding=(1, 1))\n",
              "    (lin1): Linear(in_features=512, out_features=256, bias=True)\n",
              "    (lin2): Linear(in_features=256, out_features=20, bias=True)\n",
              "  )\n",
              "  (decoder): Decoder(\n",
              "    (lin1): Linear(in_features=10, out_features=256, bias=True)\n",
              "    (lin2): Linear(in_features=256, out_features=512, bias=True)\n",
              "    (convT1): ConvTranspose2d(32, 32, kernel_size=(4, 4), stride=(2, 2), padding=(1, 1))\n",
              "    (convT2): ConvTranspose2d(32, 32, kernel_size=(4, 4), stride=(2, 2), padding=(1, 1))\n",
              "    (convT3): ConvTranspose2d(32, 32, kernel_size=(4, 4), stride=(2, 2), padding=(1, 1))\n",
              "    (convT4): ConvTranspose2d(32, 1, kernel_size=(4, 4), stride=(2, 2), padding=(1, 1))\n",
              "  )\n",
              ")"
            ]
          },
          "metadata": {},
          "execution_count": 38
        }
      ]
    },
    {
      "cell_type": "markdown",
      "source": [
        "We are going to compute the predictions of all 7 loaded models on the test dataset. We store the reconstructed probability maps in `test_reconstructions_mean`, the thresholded images in `test_reconstructions_image`, the latent distributions (mean/log-var) corresponding to each sample in `test_stats_qzx`. We also record the corresponding ground truth factor values ('shape', 'scale', 'orientation', 'posX', 'posY') for each data sample, in `gt_factors`."
      ],
      "metadata": {
        "id": "YVVwvukxnP2l"
      }
    },
    {
      "cell_type": "code",
      "source": [
        "models = [model_001, model_01, model_1, model_3, model_10, model_100, model_annealed]\n",
        "model_descriptions = ['0.01', '0.1', '1', '3', '10', '100', 'ann.']"
      ],
      "metadata": {
        "id": "iyLi6LkmP1Y6"
      },
      "execution_count": 39,
      "outputs": []
    },
    {
      "cell_type": "code",
      "source": [
        "test_loader = torch.utils.data.DataLoader(test_dataset, batch_size=64, shuffle=False)"
      ],
      "metadata": {
        "id": "qFNz8zupK7IC"
      },
      "execution_count": 40,
      "outputs": []
    },
    {
      "cell_type": "code",
      "source": [
        "test_reconstructions_mean = torch.zeros((7,len(test_dataset), 64, 64))\n",
        "test_reconstructions_image = np.zeros((7,len(test_dataset), 64, 64), dtype=np.uint)\n",
        "test_stats_qzx = torch.zeros(7,len(test_dataset), D, 2)\n",
        "gt_factors = torch.zeros(7, len(test_dataset), 5)"
      ],
      "metadata": {
        "id": "H1swouGKLQvo"
      },
      "execution_count": 41,
      "outputs": []
    },
    {
      "cell_type": "code",
      "source": [
        "for i,model in enumerate(models):\n",
        "  n = 0\n",
        "  with tqdm(test_loader, unit=\"batch\") as tepoch:\n",
        "    for data, factors in tepoch:\n",
        "      tepoch.set_description(\"Model 𝛽={}\".format(model_descriptions[i]))\n",
        "\n",
        "      # Move data to GPU\n",
        "      data = data.to(device)\n",
        "\n",
        "      # Compute predictions\n",
        "      predict = model(data, mode='mean')\n",
        "      reconstructions = predict['reconstructions']\n",
        "      stats_qzx = predict['stats_qzx']\n",
        "\n",
        "      # Store quantities of interest\n",
        "      batch_size = stats_qzx.shape[0]\n",
        "      gt_factors[i,n:(n+batch_size),:] = factors\n",
        "      test_stats_qzx[i,n:(n+batch_size),:,:] = (stats_qzx).detach()\n",
        "      test_reconstructions_mean[i,n:(n+batch_size), :, :] = (reconstructions).detach().cpu().squeeze()\n",
        "      test_reconstructions_image[i, n:(n+batch_size), :, :] = ((reconstructions.detach().cpu().numpy().squeeze(1) >= 0.5) * 255)\n",
        "\n",
        "      # increment n to fill next parts of the arrays\n",
        "      n += batch_size"
      ],
      "metadata": {
        "id": "kEh-nmggK8AC",
        "colab": {
          "base_uri": "https://localhost:8080/"
        },
        "outputId": "e5133c0d-7040-44a8-dcc7-117eb9746fad"
      },
      "execution_count": 43,
      "outputs": [
        {
          "output_type": "stream",
          "name": "stderr",
          "text": [
            "Model 𝛽=0.01: 100%|██████████| 173/173 [00:03<00:00, 48.51batch/s]\n",
            "Model 𝛽=0.1: 100%|██████████| 173/173 [00:01<00:00, 88.95batch/s]\n",
            "Model 𝛽=1: 100%|██████████| 173/173 [00:01<00:00, 90.54batch/s]\n",
            "Model 𝛽=3: 100%|██████████| 173/173 [00:01<00:00, 92.19batch/s]\n",
            "Model 𝛽=10: 100%|██████████| 173/173 [00:01<00:00, 90.61batch/s]\n",
            "Model 𝛽=100: 100%|██████████| 173/173 [00:01<00:00, 91.42batch/s]\n",
            "Model 𝛽=ann.: 100%|██████████| 173/173 [00:02<00:00, 77.84batch/s]\n"
          ]
        }
      ]
    },
    {
      "cell_type": "markdown",
      "source": [
        "Next, we visualize both the reconstruction and generation performance of all 7 models. Each model occupies a single row (1st row: '0.01', 2nd row: '0.1', 3rd row: '1', 4th row: '3', 5th row: '10', 6th row: '100', 7th row: 'ann.').\n",
        "\n",
        "We randomly pick 3 images from the test set. For each model (each row), we display each original test image, their reconstruction, and a random generated image (unrelated to the test image). (That leads to 3x3=9 images per row).\n",
        "\n"
      ],
      "metadata": {
        "id": "hjJwal_2oqHm"
      }
    },
    {
      "cell_type": "code",
      "source": [
        "plt.figure(figsize=(20, 18))\n",
        "for img in range(0,3):\n",
        "    rand_ind = np.random.randint(0,len(test_dataset))\n",
        "\n",
        "    for mdl in range(0,7):\n",
        "        plt.subplot(7, 9, 9*mdl+3*img+1)\n",
        "        plt.imshow(test_dataset.imgs[rand_ind,:,:], cmap='gray')\n",
        "        plt.title(\"Original\")\n",
        "\n",
        "        plt.subplot(7, 9, 9*mdl+3*img+2)\n",
        "        plt.imshow(test_reconstructions_image[mdl,rand_ind,:,:], cmap='gray')\n",
        "        plt.title(\"Reconstruction\")\n",
        "\n",
        "        generated_image = (models[mdl].generate_samples(N=1)['generations'].detach().cpu().numpy().squeeze() >= 0.5) * 255\n",
        "        plt.subplot(7, 9, 9*mdl+3*img+3)\n",
        "        plt.imshow(generated_image, cmap='gray')\n",
        "        plt.title(\"Generation\")"
      ],
      "metadata": {
        "id": "_PdSaQU0K8b4",
        "colab": {
          "base_uri": "https://localhost:8080/",
          "height": 1000
        },
        "outputId": "9c8ea5cb-4339-49e7-f28a-a32247a5953b"
      },
      "execution_count": 44,
      "outputs": [
        {
          "output_type": "display_data",
          "data": {
            "text/plain": [
              "<Figure size 2000x1800 with 63 Axes>"
            ],
            "image/png": "[encoded data removed]"
          },
          "metadata": {}
        }
      ]
    },
    {
      "cell_type": "markdown",
      "source": [
        "**Questions:**\n",
        "1. Which models do you think show the best reconstructions? the best generations? The best compromise between both?\n",
        "\n",
        "2. How do you explain the 'empty' reconstructions for the model $\\beta=10^2$ (6th row)?\n",
        "\n",
        "3. How do you explain the particularly poor generated images for $\\beta=10^{-2}$, $\\beta=10^{-1}$ (1st and 2nd rows)?\n",
        "\n",
        "You can run the above cell several times to better inform your answers / avoid 'chance' outputs."
      ],
      "metadata": {
        "id": "8FbxLepZrEkZ"
      }
    },
    {
      "cell_type": "markdown",
      "source": [
        "**ANSWER**:\n",
        "\n",
        "## **Analysis of β-VAE Models**\n",
        "\n",
        "### **Which models do you think show the best reconstructions? the best generations? The best compromise between both?**\n",
        "Models with **lower β values** (e.g., **β = 0.01, β = 0.1, β = 1**) tend to produce the **best reconstructions**. This is because a low β prioritizes the **reconstruction loss**, allowing the model to accurately reproduce input images. However, this comes at the cost of a **poorly structured latent space**, making the generated images less meaningful.\n",
        "\n",
        "On the other hand, models with **higher β values** (e.g., **β = 3, β = 10, β = 100**) focus more on **latent space regularization**, leading to better **disentanglement**. These models generate more structured images but may struggle with **reconstruction accuracy**.\n",
        "\n",
        "A good **compromise** between both reconstruction and generation quality appears to be **β = 1 or β = 3**. These values allow the model to retain sufficient **reconstruction accuracy** while also encouraging a **well-structured latent representation**, making them ideal choices for a balanced VAE model.\n",
        "\n",
        "---\n",
        "\n",
        "### **How do you explain the 'empty' reconstructions for the model $\\beta=10^2$ (6th row)?**\n",
        "When **β = 100**, the model enforces **extreme disentanglement**, heavily penalizing deviations from a structured latent space. As a result, the model **compresses most of the latent variables** to near-zero variance. This means that the latent space becomes too constrained to capture meaningful variations in the data, effectively reducing the model's ability to reconstruct complex details.\n",
        "\n",
        "This explains why the reconstructed images appear **empty or blurred**—the model has learned to **ignore the fine details** of the input images in favor of keeping the latent distribution close to a standard normal distribution. This issue is known as **posterior collapse**, where the latent representation becomes underutilized due to an excessively strong KL divergence constraint.\n",
        "\n",
        "---\n",
        "\n",
        "### **How do you explain the particularly poor generated images for $\\beta=10^{-2}$, $\\beta=10^{-1}$ (1st and 2nd rows)?**\n",
        "For **β = 0.01 and β = 0.1**, the model prioritizes **reconstruction loss** so strongly that it fails to **structure the latent space properly**. This means that while the reconstructions remain sharp and accurate, the model does not learn a **meaningful disentangled representation** of the data. As a consequence, the generative process is unreliable.\n",
        "\n",
        "When sampling from the **prior distribution** (standard normal), the latent codes do not correspond to well-formed objects, resulting in **blurry, distorted, or unrealistic images**. This issue arises because a poorly structured latent space makes it difficult for the decoder to generate coherent shapes from randomly sampled latent vectors.\n",
        "\n",
        "Thus, while **low β models excel at reconstructing input data**, they fail at **producing high-quality generated images** due to a lack of latent space regularization.\n",
        "\n"
      ],
      "metadata": {
        "id": "1xh0WHhoceOW"
      }
    },
    {
      "cell_type": "markdown",
      "source": [
        "## Quantitative metrics\n",
        "\n",
        "Next, we are going to quantify model performance according to two metrics: one reconstruction metric, and one disentanglement metric. Ideally we would like models with low reconstruction error, and high disentanglement score."
      ],
      "metadata": {
        "id": "2X01uEqZsU-v"
      }
    },
    {
      "cell_type": "markdown",
      "source": [
        "We first provide the **reconstruction metric** `ReconstructionMetric`. It computes, per test image, the average log-likelihood of a pixel (averaged over all pixels) under a model. To do so, it takes as input the reconstructed probability maps and the original test images. The lower the metric, the better reconstruction."
      ],
      "metadata": {
        "id": "d7jIVklruEFW"
      }
    },
    {
      "cell_type": "code",
      "execution_count": 51,
      "metadata": {
        "id": "hWb6-NHlSE77"
      },
      "outputs": [],
      "source": [
        "class ReconstructionMetric(object):\n",
        "    def __init__(self):\n",
        "        super().__init__()\n",
        "\n",
        "    def __call__(self, reconstructions, data):\n",
        "        \"\"\"\n",
        "        Reconstruction error per image, averaged over pixels.\n",
        "        (Returns a list of the same length as there are images)\n",
        "        \"\"\"\n",
        "        return torch.mean(\n",
        "                  F.binary_cross_entropy(reconstructions, data,\n",
        "                                         reduction='none').view(len(data), -1),\n",
        "                  dim=-1)"
      ]
    },
    {
      "cell_type": "markdown",
      "source": [
        "From the metric above, compute for all 7 models their reconstruction score (taking the average over all test images to get a single scalar value per model):"
      ],
      "metadata": {
        "id": "dodYDM7uu7RG"
      }
    },
    {
      "cell_type": "code",
      "source": [
        "reconstruction_scores = torch.zeros(7, device=device)\n",
        "\n",
        "for i, model in enumerate(models):\n",
        "    if isinstance(test_reconstructions_mean[i], np.ndarray):\n",
        "        recon_torch = torch.from_numpy(test_reconstructions_mean[i]).float().to(device)\n",
        "    else:\n",
        "        recon_torch = test_reconstructions_mean[i].float().to(device)\n",
        "\n",
        "    if isinstance(test_dataset.imgs, np.ndarray):\n",
        "        data_torch = torch.from_numpy(test_dataset.imgs).float().to(device)\n",
        "    else:\n",
        "        data_torch = test_dataset.imgs.float().to(device)\n",
        "\n",
        "    reconstruction_scores[i] = ReconstructionMetric()(recon_torch, data_torch).mean()"
      ],
      "metadata": {
        "id": "36eHbRT8X7Dz"
      },
      "execution_count": 52,
      "outputs": []
    },
    {
      "cell_type": "code",
      "source": [
        "for i in range(7):\n",
        "    print(\"Model 𝛽={}: {}\".format(model_descriptions[i],reconstruction_scores[i]))"
      ],
      "metadata": {
        "id": "6oOmnwXGZHZO",
        "colab": {
          "base_uri": "https://localhost:8080/"
        },
        "outputId": "7a8404cd-7656-43a6-f276-075ee47d238c"
      },
      "execution_count": 53,
      "outputs": [
        {
          "output_type": "stream",
          "name": "stdout",
          "text": [
            "Model 𝛽=0.01: 0.0035170286428183317\n",
            "Model 𝛽=0.1: 0.003276678267866373\n",
            "Model 𝛽=1: 0.004628381691873074\n",
            "Model 𝛽=3: 0.006369070615619421\n",
            "Model 𝛽=10: 0.01823640987277031\n",
            "Model 𝛽=100: 0.13825099170207977\n",
            "Model 𝛽=ann.: 0.0057948580943048\n"
          ]
        }
      ]
    },
    {
      "cell_type": "markdown",
      "source": [
        "We will now **implement the 'Mutual Information Gap'** metric from slide 77, which is an information-theoretic based disentanglement metric.\n",
        "\n",
        "To do so, we will quantize/discretize latent codes and ground truth factors, as it is much easier to compute the mutual information of discrete random variables.\n",
        "\n",
        "To compute the MIG score, we will need to compute the entropy of ground truth generative factors `vk`, caracterized by their empirical distributions *i.e.*, vectors of discrete values. This is done by the `entropy` routine below.\n",
        "\n",
        "We will also need to compute the mutual information of two discrete random variables `zi` and `vk` characterized empirically by two paired vectors of discrete values (i.e., `zi` and `vk` are two vectors of the same length, where value `j` in each vector corresponds to the value of the variable for the `j`th data sample). This can be done using `sklearn.metrics.mutual_info_score(zi, vk)`."
      ],
      "metadata": {
        "id": "jSTJUl0qvQnL"
      }
    },
    {
      "cell_type": "code",
      "execution_count": 54,
      "metadata": {
        "id": "t04NuLVd23X8"
      },
      "outputs": [],
      "source": [
        "def entropy(labels):\n",
        "    \"\"\"\n",
        "    Copy-paste from sklearn.metrics.\n",
        "\n",
        "    Calculate the entropy for a labeling.\n",
        "\n",
        "    Parameters\n",
        "    ----------\n",
        "    labels : array-like of shape (n_samples,), dtype=int\n",
        "        The labels.\n",
        "\n",
        "    Returns\n",
        "    -------\n",
        "    entropy : float\n",
        "       The entropy for a labeling.\n",
        "\n",
        "    Notes\n",
        "    -----\n",
        "    The logarithm used is the natural logarithm (base-e).\n",
        "    \"\"\"\n",
        "    if len(labels) == 0:\n",
        "        return 1.0\n",
        "    label_idx = np.unique(labels, return_inverse=True)[1]\n",
        "    pi = np.bincount(label_idx).astype(np.float64)\n",
        "    pi = pi[pi > 0]\n",
        "\n",
        "    # single cluster => zero entropy\n",
        "    if pi.size == 1:\n",
        "        return 0.0\n",
        "\n",
        "    pi_sum = np.sum(pi)\n",
        "    # log(a / b) should be calculated as log(a) - log(b) for\n",
        "    # possible loss of precision\n",
        "    return -np.sum((pi / pi_sum) * (np.log(pi) - np.log(pi_sum)))"
      ]
    },
    {
      "cell_type": "markdown",
      "source": [
        "Complete the missing parts in `MIGMetric` below:"
      ],
      "metadata": {
        "id": "4o8iAJCgzBn5"
      }
    },
    {
      "cell_type": "code",
      "execution_count": 55,
      "metadata": {
        "id": "zsKUf4T3zr6v"
      },
      "outputs": [],
      "source": [
        "class MIGMetric(object):\n",
        "    def __init__(self, num_bins=20):\n",
        "        super().__init__()\n",
        "        self.num_bins = num_bins\n",
        "\n",
        "    def __call__(self, stats_qzx, gt_factors):\n",
        "        \"\"\"Compute the mutual information gap as in [1].\n",
        "\n",
        "        References\n",
        "        ----------\n",
        "           [1] Chen, Tian Qi, et al. \"Isolating sources of disentanglement in variational\n",
        "           autoencoders.\" Advances in Neural Information Processing Systems. 2018.\n",
        "        \"\"\"\n",
        "\n",
        "        # Torch to numpy conversion\n",
        "        if isinstance(stats_qzx, torch.Tensor):\n",
        "            stats_qzx = [x.detach().cpu().numpy() for x in stats_qzx.unbind(-1)]\n",
        "        mean_qzx = stats_qzx[0]\n",
        "        if isinstance(gt_factors, torch.Tensor):\n",
        "            gt_factors = gt_factors.detach().cpu().numpy()\n",
        "\n",
        "        num_latents = mean_qzx.shape[-1]\n",
        "        num_factors = gt_factors.shape[-1]\n",
        "\n",
        "        # Rescaling the factors and latent variables does not change their mutual information or entropy,\n",
        "        # but it will let us quantize them via bins\n",
        "        mean_qzx = sklearn.preprocessing.minmax_scale(mean_qzx) # (N,D) array, this contains the z_i's for all i and all N test samples\n",
        "        gt_factors = sklearn.preprocessing.minmax_scale(gt_factors) # (N,K) array, this contains the v_k's for all k and all N test samples\n",
        "\n",
        "        # Quantization, we turn them in discrete variables to compute the mutual information and\n",
        "        # entropy more easily below:\n",
        "        bins = np.linspace(0, 1, self.num_bins + 1)\n",
        "        mean_qzx = np.digitize(mean_qzx, bins[:-1], right=False).astype(int) # (N,D) array, this contains the quantized z_i's for all i and all N test samples\n",
        "        gt_factors = np.digitize(gt_factors, bins[:-1], right=False).astype(int) # (N,K) array, this contains the quantized v_k's for all k and all N test samples\n",
        "\n",
        "        # Compute a (D,K) array of mutual informations between each pair of (z_i,v_k)\n",
        "        # Hint: look at the definition of mean_qzx and gt_factors above and use them\n",
        "        mutual_info_scores = np.zeros((num_latents, num_factors))\n",
        "        for i in range(num_latents):\n",
        "            for k in range(num_factors):\n",
        "                mutual_info_scores[i,k] = sklearn.metrics.mutual_info_score(mean_qzx[:, i], gt_factors[:, k])\n",
        "\n",
        "        # Sorting each column of this (D,K) array in ascending order:\n",
        "        sorted_factor_mutual_info_scores = np.sort(mutual_info_scores, axis=0)\n",
        "\n",
        "        # Taking the difference, column-wise, of the highest and second highest MI scores\n",
        "        mutual_info_gaps = sorted_factor_mutual_info_scores[-1, :] - sorted_factor_mutual_info_scores[-2, :]\n",
        "\n",
        "        # Computing the entropy of each generative factor v_k to normalize the MI gaps\n",
        "        factor_entropy = np.zeros((num_factors,))\n",
        "        for k in range(num_factors):\n",
        "            factor_entropy[k] = entropy(gt_factors[:,k])\n",
        "\n",
        "        # Normalizing the gaps and averaging over factors as in slide 77\n",
        "        normalized_mutual_info_gap = mutual_info_gaps / (factor_entropy + 1e-10)\n",
        "\n",
        "        return normalized_mutual_info_gap.mean()"
      ]
    },
    {
      "cell_type": "markdown",
      "source": [
        "We can now compute the MIG score of all 7 models and print them:"
      ],
      "metadata": {
        "id": "vwhRmIz50SQl"
      }
    },
    {
      "cell_type": "code",
      "execution_count": 56,
      "metadata": {
        "id": "tOgTKW6ACAvT"
      },
      "outputs": [],
      "source": [
        "mig_scores = np.zeros(7)\n",
        "mig_metric = MIGMetric()\n",
        "\n",
        "for i,model in enumerate(models):\n",
        "    mig_scores[i] = mig_metric(test_stats_qzx[i], gt_factors[i])"
      ]
    },
    {
      "cell_type": "code",
      "source": [
        "for i in range(7):\n",
        "    print(\"Model 𝛽={}: {}\".format(model_descriptions[i],mig_scores[i]))"
      ],
      "metadata": {
        "id": "ZisCPetEcpbM",
        "colab": {
          "base_uri": "https://localhost:8080/"
        },
        "outputId": "0455d8d1-db23-4091-bb96-033b91741267"
      },
      "execution_count": 57,
      "outputs": [
        {
          "output_type": "stream",
          "name": "stdout",
          "text": [
            "Model 𝛽=0.01: 0.02031166619121441\n",
            "Model 𝛽=0.1: 0.017469945790944207\n",
            "Model 𝛽=1: 0.05678346685289539\n",
            "Model 𝛽=3: 0.09419947654306422\n",
            "Model 𝛽=10: 0.22686492080715173\n",
            "Model 𝛽=100: 0.0\n",
            "Model 𝛽=ann.: 0.34377116543870656\n"
          ]
        }
      ]
    },
    {
      "cell_type": "markdown",
      "source": [
        "**Questions:**\n",
        "1. Which models are best for reconstruction? For disentanglement?\n",
        "2. Why is the disentanglement metric going down to 0 for $\\beta=100$?\n",
        "3. Which model do you think realizes the best compromise between reconstruction and disentanglement?\n",
        "\n",
        "To help you answer these questions, you can visualize below on the same scatter plot the reconstruction and disentanglement metrics for all 7 model."
      ],
      "metadata": {
        "id": "U7SvClh60Yoa"
      }
    },
    {
      "cell_type": "markdown",
      "source": [
        "**ANSWER**:\n",
        "## **Analysis of β-VAE Models Based on Quantitative Metrics**\n",
        "\n",
        "### **Which models are best for reconstruction? For disentanglement?**\n",
        "- **Best models for reconstruction**:\n",
        "  - The models with the **lowest reconstruction error** are **β = 0.01 (0.0035)** and **β = 0.1 (0.0033)**.\n",
        "  - This means they excel at **accurately reconstructing the input images**, as they prioritize minimizing the reconstruction loss.\n",
        "\n",
        "- **Best models for disentanglement**:\n",
        "  - The models with the **highest MIG scores** are **β = 10 (0.2269)** and **β = ann. (0.3438)**.\n",
        "  - These models **enforce stronger regularization**, leading to a **more structured latent space** where different latent variables correspond to different generative factors.\n",
        "\n",
        "---\n",
        "\n",
        "### **Why is the disentanglement metric going down to 0 for $\\beta=100$?**\n",
        "- When **β = 100**, the KL divergence term **dominates** the loss function, forcing the latent space to approximate **an isotropic Gaussian** too strictly.\n",
        "- As a result, the model **ignores the input data**, leading to **posterior collapse**, where all latent variables become uninformative.\n",
        "- This explains why the MIG score is **0.0**, meaning the model has completely **failed to capture meaningful latent representations**.\n",
        "\n",
        "---\n",
        "\n",
        "### **Which model do you think realizes the best compromise between reconstruction and disentanglement?**\n",
        "- The best compromise is likely **β = 3** or **β = 10**:\n",
        "  - **β = 3** has a **moderate reconstruction error (0.0064)** and a **reasonably high MIG score (0.0942)**.\n",
        "  - **β = 10** improves disentanglement **even further (0.2269)** but at the cost of **higher reconstruction error (0.0182)**.\n",
        "- The **annealed model (β = ann.)** achieves the **best disentanglement score (0.3438)** while maintaining a **moderate reconstruction error (0.0058)**, making it a **strong candidate** for an optimal trade-off.\n"
      ],
      "metadata": {
        "id": "xmdPK5V0h7b1"
      }
    },
    {
      "cell_type": "code",
      "source": [
        "fig, ax = plt.subplots()\n",
        "\n",
        "ax.scatter(\n",
        "    x=torch.tensor(reconstruction_scores).cpu().numpy(),\n",
        "    y=torch.tensor(mig_scores).cpu().numpy(),\n",
        "    color='b'\n",
        ")\n",
        "\n",
        "ax.set_xscale('log')\n",
        "ax.set_xlabel('Reconstruction error per pixel')\n",
        "ax.set_ylabel('MIG score')\n",
        "ax.set_title('Model performance')\n",
        "\n",
        "for i, txt in enumerate(model_descriptions):\n",
        "    ax.annotate(txt, (\n",
        "        float(reconstruction_scores[i]) * 1.05,\n",
        "        float(mig_scores[i])\n",
        "    ))\n",
        "\n",
        "plt.show()\n",
        "\n"
      ],
      "metadata": {
        "id": "00j3VDqnEgxa",
        "colab": {
          "base_uri": "https://localhost:8080/",
          "height": 511
        },
        "outputId": "f5c66002-755f-41ac-e51c-ff5eb6adfaed"
      },
      "execution_count": 63,
      "outputs": [
        {
          "output_type": "stream",
          "name": "stderr",
          "text": [
            "<ipython-input-63-da5b6d3d1a86>:4: UserWarning: To copy construct from a tensor, it is recommended to use sourceTensor.clone().detach() or sourceTensor.clone().detach().requires_grad_(True), rather than torch.tensor(sourceTensor).\n",
            "  x=torch.tensor(reconstruction_scores).cpu().numpy(),\n"
          ]
        },
        {
          "output_type": "display_data",
          "data": {
            "text/plain": [
              "<Figure size 640x480 with 1 Axes>"
            ],
            "image/png": "[encoded data removed]"
          },
          "metadata": {}
        }
      ]
    },
    {
      "cell_type": "markdown",
      "source": [
        "##Visualizing the effect of each latent dimension\n",
        "\n",
        "Finally, we can visualize the effect of each of the 10 latent dimensions on generated images, for the model you think achieves the best trade-off between reconstruction and disentanglement.\n",
        "\n",
        "To do so, we will pick a suitable image from the test dataset (choose an `index` below between `0` and `len(test_dataset)`; you can visualize the corresponding test image by running the cell below).\n",
        "\n",
        "We will then compute the corresponding latent code `latent_z` (the mean of q(z|x)). Finally, we will modify one-by-one the latent dimensions of `latent_z`, going over the range of possible values for the selected dimension, while leaving all other dimensions unchanged. This allows us to see the modifications brought by each individual dimension on the output image."
      ],
      "metadata": {
        "id": "Z0szuL7a01zG"
      }
    },
    {
      "cell_type": "code",
      "source": [
        "index = 42\n",
        "plt.imshow(test_dataset.imgs[index,:,:]*255, cmap='gray')"
      ],
      "metadata": {
        "id": "8IEgtpT6Izzp",
        "colab": {
          "base_uri": "https://localhost:8080/",
          "height": 449
        },
        "outputId": "3f29cf1f-5e8a-4276-96b6-761748cbc83f"
      },
      "execution_count": 64,
      "outputs": [
        {
          "output_type": "execute_result",
          "data": {
            "text/plain": [
              "<matplotlib.image.AxesImage at 0x7db50c665150>"
            ]
          },
          "metadata": {},
          "execution_count": 64
        },
        {
          "output_type": "display_data",
          "data": {
            "text/plain": [
              "<Figure size 640x480 with 1 Axes>"
            ],
            "image/png": "[encoded data removed]"
          },
          "metadata": {}
        }
      ]
    },
    {
      "cell_type": "markdown",
      "source": [
        "Specify the model (integer from 0 to 6 included) which you want to investigate and run the cell below.\n",
        "\n",
        "The output of the cell recalls:\n",
        "* the model you selected\n",
        "* the latent code corresponding to the image indexed by your chosen `index` in the test dataset\n",
        "* the normal reconstruction of this image by the selected model prior to changing any latent dimension"
      ],
      "metadata": {
        "id": "sw1hlJt_2xKg"
      }
    },
    {
      "cell_type": "code",
      "source": [
        "mdl = 3\n",
        "print(\"Picked model 𝛽={}\".format(model_descriptions[i]))\n",
        "\n",
        "print(\"\\nThe latent code of the chosen image is:\")\n",
        "latent_z = test_stats_qzx[mdl, index, :, 0]\n",
        "print(latent_z)\n",
        "\n",
        "print(\"\\nThe reconstruction by the model is:\")\n",
        "plt.imshow(test_reconstructions_image[mdl, index], cmap='gray')"
      ],
      "metadata": {
        "id": "9c-KSuF3KMag",
        "colab": {
          "base_uri": "https://localhost:8080/",
          "height": 571
        },
        "outputId": "623c28b9-6028-4753-ff97-899cdb93ffa7"
      },
      "execution_count": 65,
      "outputs": [
        {
          "output_type": "stream",
          "name": "stdout",
          "text": [
            "Picked model 𝛽=ann.\n",
            "\n",
            "The latent code of the chosen image is:\n",
            "tensor([-1.2030, -0.0210, -0.0231, -0.0399,  2.5219, -0.0082, -0.0068, -0.5322,\n",
            "         0.5799,  0.0042])\n",
            "\n",
            "The reconstruction by the model is:\n"
          ]
        },
        {
          "output_type": "execute_result",
          "data": {
            "text/plain": [
              "<matplotlib.image.AxesImage at 0x7db50c61e4d0>"
            ]
          },
          "metadata": {},
          "execution_count": 65
        },
        {
          "output_type": "display_data",
          "data": {
            "text/plain": [
              "<Figure size 640x480 with 1 Axes>"
            ],
            "image/png": "[encoded data removed]"
          },
          "metadata": {}
        }
      ]
    },
    {
      "cell_type": "markdown",
      "source": [
        "Now, we visualize the effect of every latent dimension. Each latent dimension occupies a row in the figure below (there are 10 rows). Along row `i`, we vary the value of the latent dimension `i` between the min and max values observed in the test dataset, then decode the corresponding images and plot them."
      ],
      "metadata": {
        "id": "VcZsr5ku3X1v"
      }
    },
    {
      "cell_type": "code",
      "source": [
        "min_code, _ = torch.min(test_stats_qzx[mdl,:,:,0], axis=0)\n",
        "max_code, _ = torch.max(test_stats_qzx[mdl,:,:,0], axis=0)\n",
        "range_code = torch.max(min_code.abs(), max_code.abs())"
      ],
      "metadata": {
        "id": "jBMQGPAwLJGV"
      },
      "execution_count": 68,
      "outputs": []
    },
    {
      "cell_type": "code",
      "source": [
        "plt.figure(figsize=(12, 16))\n",
        "\n",
        "for dim in range(0,10):\n",
        "    for i in range(0,7):\n",
        "        z = latent_z.clone().to(device)\n",
        "        z[dim] = -range_code[dim] + 2*range_code[dim]*i/6\n",
        "        z = z.unsqueeze(0)\n",
        "\n",
        "        img = (models[mdl].generate_samples(samples_pz=z)['generations'].squeeze().detach().cpu().numpy() >= 0.5) * 255\n",
        "\n",
        "        plt.subplot(10, 7, 7*dim+i+1)\n",
        "        plt.imshow(img, cmap='gray')"
      ],
      "metadata": {
        "id": "zT3kE5akL8z0",
        "colab": {
          "base_uri": "https://localhost:8080/",
          "height": 1000
        },
        "outputId": "2f0dc32f-cf7b-42b5-9b4a-3f9d833476d6"
      },
      "execution_count": 70,
      "outputs": [
        {
          "output_type": "display_data",
          "data": {
            "text/plain": [
              "<Figure size 1200x1600 with 70 Axes>"
            ],
            "image/png": "[encoded data removed]"
          },
          "metadata": {}
        }
      ]
    },
    {
      "cell_type": "markdown",
      "source": [
        "**Questions:**\n",
        "1. Can you associate some of the latent dimensions to some of the generative factors (among 'shape', 'scale', 'orientation', 'posX', 'posY')?\n",
        "2. Do you think the factors are perfectly disentangled? Which ones are roughly disentangled and which ones are not?"
      ],
      "metadata": {
        "id": "YAFPPBIj351g"
      }
    },
    {
      "cell_type": "markdown",
      "source": [
        "**ANSWER**:\n",
        "\n",
        "## **Analysis of Latent Dimensions and Disentanglement**\n",
        "\n",
        "### **Can you associate some of the latent dimensions to some of the generative factors (among 'shape', 'scale', 'orientation', 'posX', 'posY')?**\n",
        "- Yes, some latent dimensions can be associated with specific generative factors:\n",
        "  - **Position (posX, posY):** Some latent dimensions cause a smooth horizontal or vertical shift in the object’s location.\n",
        "  - **Orientation:** A few dimensions clearly control the **rotation** of the shape, progressively tilting it.\n",
        "  - **Scale:** Some dimensions influence the **size** of the shape, making it expand or shrink.\n",
        "  - **Shape:** While harder to isolate, certain latent variables appear to switch between different **object shapes (square, ellipse, heart)**.\n",
        "- However, **not all latent dimensions map to a single factor**, and some encode **a mix of different variations** rather than a clear-cut generative factor.\n",
        "\n",
        "---\n",
        "\n",
        "### **Do you think the factors are perfectly disentangled? Which ones are roughly disentangled and which ones are not?**\n",
        "- **No, the factors are not perfectly disentangled**, but some show clearer separation:\n",
        "  - **Roughly Disentangled:**\n",
        "    - **Position (posX, posY):** These factors are well captured, with clean horizontal and vertical movements.\n",
        "    - **Orientation:** There are latent dimensions dedicated to rotation, indicating **some degree of disentanglement**.\n",
        "    - **Scale:** The size changes are fairly well isolated in certain latent variables.\n",
        "  - **Not Well Disentangled:**\n",
        "    - **Shape:** The transition between different shapes is **not clean**, and it sometimes interacts with size or position.\n",
        "    - **Rotation & Position Interaction:** In some cases, **modifying a rotation-related dimension also shifts the object**, indicating **entanglement between these factors**.\n",
        "- Overall, while the **β-VAE model captures meaningful latent representations**, the **degree of disentanglement is not perfect**. Some factors remain entangled, but the model does successfully separate a few generative properties.\n",
        "\n",
        "---\n",
        "\n",
        "## **Conclusion**\n",
        "The **β-VAE model provides partial disentanglement**, but some factors still interfere with each other. **Higher β values generally improve disentanglement but at the cost of reconstruction accuracy**. The goal is to find a balance where each latent dimension **effectively captures a single interpretable factor** while maintaining **good reconstruction performance**.\n"
      ],
      "metadata": {
        "id": "SU6b--qMmL9m"
      }
    },
    {
      "cell_type": "markdown",
      "source": [
        "## Optional\n",
        "\n",
        "For the selected model, you can quantify the amount of information encoded in each latent dimension by computing the average KL divergence between $q(z_i|x)$ and $\\mathcal{N}(0,1)$, averaged over x.\n",
        "\n",
        "(You can simply run the cells below to obtain these values.)"
      ],
      "metadata": {
        "id": "h6dskK2143nm"
      }
    },
    {
      "cell_type": "code",
      "execution_count": 71,
      "metadata": {
        "id": "qZ7OZi8Zvab5"
      },
      "outputs": [],
      "source": [
        "class KLMetric(object):\n",
        "    def __init__(self):\n",
        "      super().__init__()\n",
        "\n",
        "    def __call__(self, stats_qzx):\n",
        "        \"\"\"\n",
        "        Outputs: (D,) array\n",
        "        Average (over x) KL divergence between q(z_i|x) and N(0,1) for every latent z_i\n",
        "        \"\"\"\n",
        "        return kl_normal_loss(*stats_qzx.unbind(-1), batch_mean=True, component_sum=False)"
      ]
    },
    {
      "cell_type": "code",
      "source": [
        "D = 10\n",
        "kl_scores = torch.zeros(7, D)\n",
        "\n",
        "for i, model in enumerate(models):\n",
        "    kl_scores[i, :] = KLMetric()(test_stats_qzx[i])\n"
      ],
      "metadata": {
        "id": "2aWHRyJeqnhD"
      },
      "execution_count": 74,
      "outputs": []
    },
    {
      "cell_type": "code",
      "source": [
        "kl_scores = torch.zeros(7, D)\n",
        "\n",
        "for i,model in enumerate(models):\n",
        "    kl_scores[i, :] = KLMetric()(test_stats_qzx[i])"
      ],
      "metadata": {
        "id": "rEgzHA92tmQv"
      },
      "execution_count": 75,
      "outputs": []
    },
    {
      "cell_type": "code",
      "source": [
        "mdl = 6\n",
        "print(f\"KL divergence values for model β={model_descriptions[mdl]}:\")\n",
        "print(kl_scores[mdl])\n"
      ],
      "metadata": {
        "id": "zklv-OHG5fa_",
        "colab": {
          "base_uri": "https://localhost:8080/"
        },
        "outputId": "f1da76c7-56d2-4ebf-c6fd-597ca379963e"
      },
      "execution_count": 76,
      "outputs": [
        {
          "output_type": "stream",
          "name": "stdout",
          "text": [
            "KL divergence values for model β=ann.:\n",
            "tensor([7.1660, 4.2732, 4.8496, 3.8894, 5.8899, 3.9888, 7.1900, 4.1374, 4.7934,\n",
            "        5.7553])\n"
          ]
        }
      ]
    },
    {
      "cell_type": "code",
      "source": [
        "kl_values = kl_scores[mdl].cpu().numpy()\n",
        "\n",
        "plt.figure(figsize=(10, 5))\n",
        "plt.bar(np.arange(D), kl_values, color='royalblue')\n",
        "\n",
        "plt.xlabel('Latent Dimension')\n",
        "plt.ylabel('KL Divergence')\n",
        "plt.title(f'KL Divergence for Each Latent Dimension (β={model_descriptions[mdl]})')\n",
        "plt.xticks(np.arange(D))\n",
        "plt.grid(axis='y', linestyle='--', alpha=0.7)\n",
        "\n",
        "plt.show()\n"
      ],
      "metadata": {
        "colab": {
          "base_uri": "https://localhost:8080/",
          "height": 487
        },
        "id": "Ek9JtCCQqr8h",
        "outputId": "e0662019-9e04-41c5-9b6a-f0c43b835d1b"
      },
      "execution_count": 77,
      "outputs": [
        {
          "output_type": "display_data",
          "data": {
            "text/plain": [
              "<Figure size 1000x500 with 1 Axes>"
            ],
            "image/png": "[encoded data removed]"
          },
          "metadata": {}
        }
      ]
    },
    {
      "cell_type": "markdown",
      "source": [
        "This is not very informative, although there are two dimensions that slightly stand out with larger values. Which generative factors do they correspond to?"
      ],
      "metadata": {
        "id": "XUdkfZ3FCTVs"
      }
    },
    {
      "cell_type": "markdown",
      "source": [
        "## **Analysis of KL Divergence Across Latent Dimensions**\n",
        "\n",
        "  ### 🔹 **What does the KL divergence tell us?**\n",
        "- The **KL divergence** measures how much information is encoded in each latent dimension.\n",
        "- A **higher KL value** suggests that the latent variable **stores more information** about the data, while a **lower KL value** implies it is close to the prior **N(0,1)** and may not be actively contributing to representation.\n",
        "- In an **ideal disentangled model**, only a **few dimensions should have significant KL values**, while others remain close to zero.\n",
        "\n",
        "---\n",
        "\n",
        "### 🔹 **Observing the KL values for the selected model**\n",
        "- The computed **KL values for each latent dimension** help us identify which dimensions are actively encoding meaningful information.\n",
        "- The results for the selected model (**β = ann.**) are:\n",
        "\n",
        "    [7.1660, 4.2732, 4.8496, 3.8894, 5.8899, 3.9888, 7.1900, 4.1374, 4.7934, 5.7553]\n",
        "\n",
        "---\n"
      ],
      "metadata": {
        "id": "sNvfE521oRfF"
      }
    },
    {
      "cell_type": "markdown",
      "source": [
        " ### 🔹 **Which generative factors do the high KL divergence dimensions correspond to?**\n",
        "\n",
        "- The highest KL values (7.1660 and 7.1900) strongly suggest they encode posX and posY (object position).\n",
        "- Other moderate KL values likely correspond to scale and orientation.\n",
        "Shape is likely represented in lower KL dimensions, as it is categorical and requires less latent capacity.\n",
        "- The fact that multiple dimensions have relatively high KL values suggests some entanglement between factors.\n",
        "---"
      ],
      "metadata": {
        "id": "PLMRThipr-T5"
      }
    },
    {
      "cell_type": "markdown",
      "source": [
        "### 📝 Conclusion\n",
        "- The two highest KL values (7.1660 and 7.1900) likely encode position-related features.\n",
        "- Other significant dimensions likely encode scale and orientation.\n",
        "Some latent variables might still be entangled, meaning they capture multiple generative factors together\n",
        "---"
      ],
      "metadata": {
        "id": "5ExH3o8KsNdO"
      }
    },
    {
      "cell_type": "markdown",
      "metadata": {
        "id": "UHvVykc4dE8m"
      },
      "source": [
        "# References\n",
        "\n",
        "Large parts of this notebook where adapted from Facebook's disentanglement lib: https://github.com/facebookresearch/disentangling-correlated-factors/tree/main (MIT, Apache-2.0 licenses)."
      ]
    }
  ],
  "metadata": {
    "colab": {
      "provenance": [],
      "gpuType": "T4"
    },
    "kernelspec": {
      "display_name": "Python 3",
      "name": "python3"
    },
    "language_info": {
      "name": "python"
    },
    "accelerator": "GPU"
  },
  "nbformat": 4,
  "nbformat_minor": 0
}